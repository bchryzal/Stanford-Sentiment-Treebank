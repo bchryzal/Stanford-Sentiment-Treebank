{
 "cells": [
  {
   "cell_type": "markdown",
   "id": "7035e6f0",
   "metadata": {
    "papermill": {
     "duration": 0.008946,
     "end_time": "2022-08-14T15:55:43.574902",
     "exception": false,
     "start_time": "2022-08-14T15:55:43.565956",
     "status": "completed"
    },
    "tags": []
   },
   "source": [
    "# Stanford Sentiment Treebank\n"
   ]
  },
  {
   "cell_type": "code",
   "execution_count": 1,
   "id": "72aa7139",
   "metadata": {
    "_cell_guid": "b1076dfc-b9ad-4769-8c92-a6c4dae69d19",
    "_uuid": "8f2839f25d086af736a60e9eeb907d3b93b6e0e5",
    "execution": {
     "iopub.execute_input": "2022-08-14T15:55:43.595554Z",
     "iopub.status.busy": "2022-08-14T15:55:43.594812Z",
     "iopub.status.idle": "2022-08-14T15:55:47.076421Z",
     "shell.execute_reply": "2022-08-14T15:55:47.075552Z"
    },
    "papermill": {
     "duration": 3.493713,
     "end_time": "2022-08-14T15:55:47.079057",
     "exception": false,
     "start_time": "2022-08-14T15:55:43.585344",
     "status": "completed"
    },
    "tags": []
   },
   "outputs": [
    {
     "data": {
      "text/html": [
       "<style type='text/css'>\n",
       ".datatable table.frame { margin-bottom: 0; }\n",
       ".datatable table.frame thead { border-bottom: none; }\n",
       ".datatable table.frame tr.coltypes td {  color: #FFFFFF;  line-height: 6px;  padding: 0 0.5em;}\n",
       ".datatable .bool    { background: #DDDD99; }\n",
       ".datatable .object  { background: #565656; }\n",
       ".datatable .int     { background: #5D9E5D; }\n",
       ".datatable .float   { background: #4040CC; }\n",
       ".datatable .str     { background: #CC4040; }\n",
       ".datatable .time    { background: #40CC40; }\n",
       ".datatable .row_index {  background: var(--jp-border-color3);  border-right: 1px solid var(--jp-border-color0);  color: var(--jp-ui-font-color3);  font-size: 9px;}\n",
       ".datatable .frame tbody td { text-align: left; }\n",
       ".datatable .frame tr.coltypes .row_index {  background: var(--jp-border-color0);}\n",
       ".datatable th:nth-child(2) { padding-left: 12px; }\n",
       ".datatable .hellipsis {  color: var(--jp-cell-editor-border-color);}\n",
       ".datatable .vellipsis {  background: var(--jp-layout-color0);  color: var(--jp-cell-editor-border-color);}\n",
       ".datatable .na {  color: var(--jp-cell-editor-border-color);  font-size: 80%;}\n",
       ".datatable .sp {  opacity: 0.25;}\n",
       ".datatable .footer { font-size: 9px; }\n",
       ".datatable .frame_dimensions {  background: var(--jp-border-color3);  border-top: 1px solid var(--jp-border-color0);  color: var(--jp-ui-font-color3);  display: inline-block;  opacity: 0.6;  padding: 1px 10px 1px 5px;}\n",
       "</style>\n"
      ],
      "text/plain": [
       "<IPython.core.display.HTML object>"
      ]
     },
     "metadata": {},
     "output_type": "display_data"
    }
   ],
   "source": [
    "import numpy as np \n",
    "import pandas as pd \n",
    "\n",
    "import gc, re, optuna\n",
    "from scipy import stats\n",
    "\n",
    "from xgboost import XGBClassifier\n",
    "from lightgbm import LGBMClassifier\n",
    "from catboost import CatBoostClassifier\n",
    "\n",
    "from sklearn.metrics import roc_auc_score, f1_score\n",
    "from sklearn.model_selection import StratifiedKFold\n",
    "from sklearn.feature_extraction.text import TfidfVectorizer"
   ]
  },
  {
   "cell_type": "markdown",
   "id": "ccbcce79",
   "metadata": {
    "papermill": {
     "duration": 0.007054,
     "end_time": "2022-08-14T15:55:47.093704",
     "exception": false,
     "start_time": "2022-08-14T15:55:47.086650",
     "status": "completed"
    },
    "tags": []
   },
   "source": [
    "# Loading Data"
   ]
  },
  {
   "cell_type": "code",
   "execution_count": 2,
   "id": "16c1b29d",
   "metadata": {
    "execution": {
     "iopub.execute_input": "2022-08-14T15:55:47.110683Z",
     "iopub.status.busy": "2022-08-14T15:55:47.110074Z",
     "iopub.status.idle": "2022-08-14T15:55:47.261930Z",
     "shell.execute_reply": "2022-08-14T15:55:47.261128Z"
    },
    "papermill": {
     "duration": 0.163195,
     "end_time": "2022-08-14T15:55:47.264132",
     "exception": false,
     "start_time": "2022-08-14T15:55:47.100937",
     "status": "completed"
    },
    "tags": []
   },
   "outputs": [
    {
     "data": {
      "text/plain": [
       "((67349, 3), (872, 2))"
      ]
     },
     "execution_count": 2,
     "metadata": {},
     "output_type": "execute_result"
    }
   ],
   "source": [
    "train = pd.read_csv('../input/stanford-sentiment-treebank/train.csv')\n",
    "test = pd.read_csv('../input/stanford-sentiment-treebank/test.csv')\n",
    "\n",
    "train.shape, test.shape"
   ]
  },
  {
   "cell_type": "markdown",
   "id": "b3dd6545",
   "metadata": {
    "papermill": {
     "duration": 0.00714,
     "end_time": "2022-08-14T15:55:47.278687",
     "exception": false,
     "start_time": "2022-08-14T15:55:47.271547",
     "status": "completed"
    },
    "tags": []
   },
   "source": [
    "# Understanding Data"
   ]
  },
  {
   "cell_type": "code",
   "execution_count": 3,
   "id": "a11f8c7e",
   "metadata": {
    "execution": {
     "iopub.execute_input": "2022-08-14T15:55:47.295767Z",
     "iopub.status.busy": "2022-08-14T15:55:47.295148Z",
     "iopub.status.idle": "2022-08-14T15:55:47.312095Z",
     "shell.execute_reply": "2022-08-14T15:55:47.310987Z"
    },
    "papermill": {
     "duration": 0.02832,
     "end_time": "2022-08-14T15:55:47.314392",
     "exception": false,
     "start_time": "2022-08-14T15:55:47.286072",
     "status": "completed"
    },
    "tags": []
   },
   "outputs": [
    {
     "data": {
      "text/html": [
       "<div>\n",
       "<style scoped>\n",
       "    .dataframe tbody tr th:only-of-type {\n",
       "        vertical-align: middle;\n",
       "    }\n",
       "\n",
       "    .dataframe tbody tr th {\n",
       "        vertical-align: top;\n",
       "    }\n",
       "\n",
       "    .dataframe thead th {\n",
       "        text-align: right;\n",
       "    }\n",
       "</style>\n",
       "<table border=\"1\" class=\"dataframe\">\n",
       "  <thead>\n",
       "    <tr style=\"text-align: right;\">\n",
       "      <th></th>\n",
       "      <th>id</th>\n",
       "      <th>target</th>\n",
       "      <th>sentence</th>\n",
       "    </tr>\n",
       "  </thead>\n",
       "  <tbody>\n",
       "    <tr>\n",
       "      <th>0</th>\n",
       "      <td>16399</td>\n",
       "      <td>0</td>\n",
       "      <td>b'for the uninitiated plays better on video wi...</td>\n",
       "    </tr>\n",
       "    <tr>\n",
       "      <th>1</th>\n",
       "      <td>1680</td>\n",
       "      <td>0</td>\n",
       "      <td>b'like a giant commercial for universal studio...</td>\n",
       "    </tr>\n",
       "    <tr>\n",
       "      <th>2</th>\n",
       "      <td>47917</td>\n",
       "      <td>1</td>\n",
       "      <td>b'company once again dazzle and delight us '</td>\n",
       "    </tr>\n",
       "    <tr>\n",
       "      <th>3</th>\n",
       "      <td>17307</td>\n",
       "      <td>1</td>\n",
       "      <td>b\"'s no surprise that as a director washington...</td>\n",
       "    </tr>\n",
       "    <tr>\n",
       "      <th>4</th>\n",
       "      <td>27051</td>\n",
       "      <td>0</td>\n",
       "      <td>b', this cross-cultural soap opera is painfull...</td>\n",
       "    </tr>\n",
       "    <tr>\n",
       "      <th>5</th>\n",
       "      <td>67082</td>\n",
       "      <td>1</td>\n",
       "      <td>b\", the film is n't nearly as downbeat as it s...</td>\n",
       "    </tr>\n",
       "    <tr>\n",
       "      <th>6</th>\n",
       "      <td>54784</td>\n",
       "      <td>0</td>\n",
       "      <td>b'only masochistic moviegoers need apply . '</td>\n",
       "    </tr>\n",
       "    <tr>\n",
       "      <th>7</th>\n",
       "      <td>50543</td>\n",
       "      <td>1</td>\n",
       "      <td>b'convince almost everyone that it was put on ...</td>\n",
       "    </tr>\n",
       "    <tr>\n",
       "      <th>8</th>\n",
       "      <td>48736</td>\n",
       "      <td>1</td>\n",
       "      <td>b\"like the english patient and the unbearable ...</td>\n",
       "    </tr>\n",
       "    <tr>\n",
       "      <th>9</th>\n",
       "      <td>26263</td>\n",
       "      <td>1</td>\n",
       "      <td>b'his supple understanding of the role '</td>\n",
       "    </tr>\n",
       "  </tbody>\n",
       "</table>\n",
       "</div>"
      ],
      "text/plain": [
       "      id  target                                           sentence\n",
       "0  16399       0  b'for the uninitiated plays better on video wi...\n",
       "1   1680       0  b'like a giant commercial for universal studio...\n",
       "2  47917       1       b'company once again dazzle and delight us '\n",
       "3  17307       1  b\"'s no surprise that as a director washington...\n",
       "4  27051       0  b', this cross-cultural soap opera is painfull...\n",
       "5  67082       1  b\", the film is n't nearly as downbeat as it s...\n",
       "6  54784       0       b'only masochistic moviegoers need apply . '\n",
       "7  50543       1  b'convince almost everyone that it was put on ...\n",
       "8  48736       1  b\"like the english patient and the unbearable ...\n",
       "9  26263       1           b'his supple understanding of the role '"
      ]
     },
     "execution_count": 3,
     "metadata": {},
     "output_type": "execute_result"
    }
   ],
   "source": [
    "train.head(10)"
   ]
  },
  {
   "cell_type": "code",
   "execution_count": 4,
   "id": "e7775db0",
   "metadata": {
    "execution": {
     "iopub.execute_input": "2022-08-14T15:55:47.332037Z",
     "iopub.status.busy": "2022-08-14T15:55:47.331315Z",
     "iopub.status.idle": "2022-08-14T15:55:47.340942Z",
     "shell.execute_reply": "2022-08-14T15:55:47.340110Z"
    },
    "papermill": {
     "duration": 0.020894,
     "end_time": "2022-08-14T15:55:47.343020",
     "exception": false,
     "start_time": "2022-08-14T15:55:47.322126",
     "status": "completed"
    },
    "tags": []
   },
   "outputs": [
    {
     "data": {
      "text/html": [
       "<div>\n",
       "<style scoped>\n",
       "    .dataframe tbody tr th:only-of-type {\n",
       "        vertical-align: middle;\n",
       "    }\n",
       "\n",
       "    .dataframe tbody tr th {\n",
       "        vertical-align: top;\n",
       "    }\n",
       "\n",
       "    .dataframe thead th {\n",
       "        text-align: right;\n",
       "    }\n",
       "</style>\n",
       "<table border=\"1\" class=\"dataframe\">\n",
       "  <thead>\n",
       "    <tr style=\"text-align: right;\">\n",
       "      <th></th>\n",
       "      <th>id</th>\n",
       "      <th>sentence</th>\n",
       "    </tr>\n",
       "  </thead>\n",
       "  <tbody>\n",
       "    <tr>\n",
       "      <th>0</th>\n",
       "      <td>787</td>\n",
       "      <td>b'a valueless kiddie paean to pro basketball u...</td>\n",
       "    </tr>\n",
       "    <tr>\n",
       "      <th>1</th>\n",
       "      <td>458</td>\n",
       "      <td>b\"featuring a dangerously seductive performanc...</td>\n",
       "    </tr>\n",
       "    <tr>\n",
       "      <th>2</th>\n",
       "      <td>423</td>\n",
       "      <td>b'i am sorry that i was unable to get the full...</td>\n",
       "    </tr>\n",
       "    <tr>\n",
       "      <th>3</th>\n",
       "      <td>466</td>\n",
       "      <td>b'the inspirational screenplay by mike rich co...</td>\n",
       "    </tr>\n",
       "    <tr>\n",
       "      <th>4</th>\n",
       "      <td>545</td>\n",
       "      <td>b\"from the opening scenes , it 's clear that a...</td>\n",
       "    </tr>\n",
       "    <tr>\n",
       "      <th>5</th>\n",
       "      <td>71</td>\n",
       "      <td>b'exquisitely nuanced in mood tics and dialogu...</td>\n",
       "    </tr>\n",
       "    <tr>\n",
       "      <th>6</th>\n",
       "      <td>675</td>\n",
       "      <td>b'slick piece of cross-promotion . '</td>\n",
       "    </tr>\n",
       "    <tr>\n",
       "      <th>7</th>\n",
       "      <td>250</td>\n",
       "      <td>b\"one of the more intelligent children 's movi...</td>\n",
       "    </tr>\n",
       "    <tr>\n",
       "      <th>8</th>\n",
       "      <td>321</td>\n",
       "      <td>b'but it could have been worse . '</td>\n",
       "    </tr>\n",
       "    <tr>\n",
       "      <th>9</th>\n",
       "      <td>106</td>\n",
       "      <td>b\"the movie 's relatively simple plot and unco...</td>\n",
       "    </tr>\n",
       "  </tbody>\n",
       "</table>\n",
       "</div>"
      ],
      "text/plain": [
       "    id                                           sentence\n",
       "0  787  b'a valueless kiddie paean to pro basketball u...\n",
       "1  458  b\"featuring a dangerously seductive performanc...\n",
       "2  423  b'i am sorry that i was unable to get the full...\n",
       "3  466  b'the inspirational screenplay by mike rich co...\n",
       "4  545  b\"from the opening scenes , it 's clear that a...\n",
       "5   71  b'exquisitely nuanced in mood tics and dialogu...\n",
       "6  675               b'slick piece of cross-promotion . '\n",
       "7  250  b\"one of the more intelligent children 's movi...\n",
       "8  321                 b'but it could have been worse . '\n",
       "9  106  b\"the movie 's relatively simple plot and unco..."
      ]
     },
     "execution_count": 4,
     "metadata": {},
     "output_type": "execute_result"
    }
   ],
   "source": [
    "test.head(10)"
   ]
  },
  {
   "cell_type": "code",
   "execution_count": 5,
   "id": "00375d6a",
   "metadata": {
    "execution": {
     "iopub.execute_input": "2022-08-14T15:55:47.361233Z",
     "iopub.status.busy": "2022-08-14T15:55:47.360486Z",
     "iopub.status.idle": "2022-08-14T15:55:47.373979Z",
     "shell.execute_reply": "2022-08-14T15:55:47.373031Z"
    },
    "papermill": {
     "duration": 0.025195,
     "end_time": "2022-08-14T15:55:47.376171",
     "exception": false,
     "start_time": "2022-08-14T15:55:47.350976",
     "status": "completed"
    },
    "tags": []
   },
   "outputs": [
    {
     "data": {
      "text/plain": [
       "1    37569\n",
       "0    29780\n",
       "Name: target, dtype: int64"
      ]
     },
     "execution_count": 5,
     "metadata": {},
     "output_type": "execute_result"
    }
   ],
   "source": [
    "train.target.value_counts()"
   ]
  },
  {
   "cell_type": "code",
   "execution_count": 6,
   "id": "b549c65d",
   "metadata": {
    "execution": {
     "iopub.execute_input": "2022-08-14T15:55:47.395277Z",
     "iopub.status.busy": "2022-08-14T15:55:47.394663Z",
     "iopub.status.idle": "2022-08-14T15:55:47.436767Z",
     "shell.execute_reply": "2022-08-14T15:55:47.435939Z"
    },
    "papermill": {
     "duration": 0.054419,
     "end_time": "2022-08-14T15:55:47.439046",
     "exception": false,
     "start_time": "2022-08-14T15:55:47.384627",
     "status": "completed"
    },
    "tags": []
   },
   "outputs": [
    {
     "data": {
      "text/plain": [
       "(67349, 3)"
      ]
     },
     "execution_count": 6,
     "metadata": {},
     "output_type": "execute_result"
    }
   ],
   "source": [
    "train = train.drop_duplicates()\n",
    "train.shape"
   ]
  },
  {
   "cell_type": "code",
   "execution_count": null,
   "id": "fcb6f62c",
   "metadata": {
    "papermill": {
     "duration": 0.007916,
     "end_time": "2022-08-14T15:55:47.456053",
     "exception": false,
     "start_time": "2022-08-14T15:55:47.448137",
     "status": "completed"
    },
    "tags": []
   },
   "outputs": [],
   "source": []
  },
  {
   "cell_type": "markdown",
   "id": "883fb6fc",
   "metadata": {
    "papermill": {
     "duration": 0.008248,
     "end_time": "2022-08-14T15:55:47.472793",
     "exception": false,
     "start_time": "2022-08-14T15:55:47.464545",
     "status": "completed"
    },
    "tags": []
   },
   "source": [
    "# Preprocessing"
   ]
  },
  {
   "cell_type": "markdown",
   "id": "5077d3ea",
   "metadata": {
    "papermill": {
     "duration": 0.007887,
     "end_time": "2022-08-14T15:55:47.489221",
     "exception": false,
     "start_time": "2022-08-14T15:55:47.481334",
     "status": "completed"
    },
    "tags": []
   },
   "source": [
    "- Data Clean"
   ]
  },
  {
   "cell_type": "code",
   "execution_count": 7,
   "id": "f2479774",
   "metadata": {
    "_kg_hide-output": true,
    "execution": {
     "iopub.execute_input": "2022-08-14T15:55:47.508076Z",
     "iopub.status.busy": "2022-08-14T15:55:47.507196Z",
     "iopub.status.idle": "2022-08-14T15:55:47.520048Z",
     "shell.execute_reply": "2022-08-14T15:55:47.518903Z"
    },
    "papermill": {
     "duration": 0.024691,
     "end_time": "2022-08-14T15:55:47.522314",
     "exception": false,
     "start_time": "2022-08-14T15:55:47.497623",
     "status": "completed"
    },
    "tags": []
   },
   "outputs": [
    {
     "data": {
      "text/plain": [
       "0    for the uninitiated plays better on video with...\n",
       "1    like giant commercial for universal studios   ...\n",
       "2           company once again dazzle and delight us  \n",
       "3    b no surprise that as director washington dema...\n",
       "4     this cross cultural soap opera is painfully f...\n",
       "Name: sentence, dtype: object"
      ]
     },
     "execution_count": 7,
     "metadata": {},
     "output_type": "execute_result"
    }
   ],
   "source": [
    "def data_clean(document):\n",
    "    \n",
    "    document = document.replace(\"b',\", '')\n",
    "    document = document.replace(\"b'\", '')\n",
    "    \n",
    "    # Remove all the special characters\n",
    "    document = re.sub(r'\\W', ' ', str(document))\n",
    "    \n",
    "    # remove all single characters\n",
    "    document = re.sub(r'\\s+[a-zA-Z]\\s+', ' ', document)\n",
    "\n",
    "    # Remove single characters from the start\n",
    "    document = re.sub(r'\\^[a-zA-Z]\\s+', ' ', document)\n",
    "    \n",
    "    return document\n",
    "\n",
    "train.sentence.head().apply(data_clean)"
   ]
  },
  {
   "cell_type": "code",
   "execution_count": 8,
   "id": "19553e83",
   "metadata": {
    "execution": {
     "iopub.execute_input": "2022-08-14T15:55:47.541577Z",
     "iopub.status.busy": "2022-08-14T15:55:47.541137Z",
     "iopub.status.idle": "2022-08-14T15:55:48.230879Z",
     "shell.execute_reply": "2022-08-14T15:55:48.229780Z"
    },
    "papermill": {
     "duration": 0.702835,
     "end_time": "2022-08-14T15:55:48.233712",
     "exception": false,
     "start_time": "2022-08-14T15:55:47.530877",
     "status": "completed"
    },
    "tags": []
   },
   "outputs": [],
   "source": [
    "train['text'] = train.sentence.apply(data_clean)\n",
    "test['text'] = test.sentence.apply(data_clean)"
   ]
  },
  {
   "cell_type": "code",
   "execution_count": 9,
   "id": "a6a7d869",
   "metadata": {
    "execution": {
     "iopub.execute_input": "2022-08-14T15:55:48.253089Z",
     "iopub.status.busy": "2022-08-14T15:55:48.252331Z",
     "iopub.status.idle": "2022-08-14T15:55:48.258203Z",
     "shell.execute_reply": "2022-08-14T15:55:48.256915Z"
    },
    "papermill": {
     "duration": 0.018082,
     "end_time": "2022-08-14T15:55:48.260369",
     "exception": false,
     "start_time": "2022-08-14T15:55:48.242287",
     "status": "completed"
    },
    "tags": []
   },
   "outputs": [],
   "source": [
    "vectorizer = TfidfVectorizer(\n",
    "    stop_words = 'english',\n",
    "    lowercase = True,\n",
    "    #min_df=0.001357\n",
    ")"
   ]
  },
  {
   "cell_type": "code",
   "execution_count": 10,
   "id": "80c3ac1f",
   "metadata": {
    "execution": {
     "iopub.execute_input": "2022-08-14T15:55:48.279624Z",
     "iopub.status.busy": "2022-08-14T15:55:48.278581Z",
     "iopub.status.idle": "2022-08-14T15:55:49.058368Z",
     "shell.execute_reply": "2022-08-14T15:55:49.057098Z"
    },
    "papermill": {
     "duration": 0.792234,
     "end_time": "2022-08-14T15:55:49.061143",
     "exception": false,
     "start_time": "2022-08-14T15:55:48.268909",
     "status": "completed"
    },
    "tags": []
   },
   "outputs": [],
   "source": [
    "X = vectorizer.fit_transform(train['text'])\n",
    "x_test = vectorizer.transform(test['text'])"
   ]
  },
  {
   "cell_type": "markdown",
   "id": "7db7c7c4",
   "metadata": {
    "papermill": {
     "duration": 0.008468,
     "end_time": "2022-08-14T15:55:49.079250",
     "exception": false,
     "start_time": "2022-08-14T15:55:49.070782",
     "status": "completed"
    },
    "tags": []
   },
   "source": [
    "- Get target data"
   ]
  },
  {
   "cell_type": "code",
   "execution_count": 11,
   "id": "dd80521d",
   "metadata": {
    "execution": {
     "iopub.execute_input": "2022-08-14T15:55:49.097814Z",
     "iopub.status.busy": "2022-08-14T15:55:49.096839Z",
     "iopub.status.idle": "2022-08-14T15:55:49.102143Z",
     "shell.execute_reply": "2022-08-14T15:55:49.101088Z"
    },
    "papermill": {
     "duration": 0.017093,
     "end_time": "2022-08-14T15:55:49.104487",
     "exception": false,
     "start_time": "2022-08-14T15:55:49.087394",
     "status": "completed"
    },
    "tags": []
   },
   "outputs": [],
   "source": [
    "y = train.target.copy()"
   ]
  },
  {
   "cell_type": "markdown",
   "id": "4f463da2",
   "metadata": {
    "papermill": {
     "duration": 0.008033,
     "end_time": "2022-08-14T15:55:49.121260",
     "exception": false,
     "start_time": "2022-08-14T15:55:49.113227",
     "status": "completed"
    },
    "tags": []
   },
   "source": [
    "# Splitting Data"
   ]
  },
  {
   "cell_type": "code",
   "execution_count": 12,
   "id": "a3c44fb5",
   "metadata": {
    "execution": {
     "iopub.execute_input": "2022-08-14T15:55:49.139590Z",
     "iopub.status.busy": "2022-08-14T15:55:49.139150Z",
     "iopub.status.idle": "2022-08-14T15:55:49.180738Z",
     "shell.execute_reply": "2022-08-14T15:55:49.179949Z"
    },
    "papermill": {
     "duration": 0.053165,
     "end_time": "2022-08-14T15:55:49.182759",
     "exception": false,
     "start_time": "2022-08-14T15:55:49.129594",
     "status": "completed"
    },
    "tags": []
   },
   "outputs": [
    {
     "data": {
      "text/plain": [
       "((53879, 13507), (13470, 13507), (53879,), (13470,))"
      ]
     },
     "execution_count": 12,
     "metadata": {},
     "output_type": "execute_result"
    }
   ],
   "source": [
    "from sklearn.model_selection import train_test_split\n",
    "\n",
    "X_train, X_valid, y_train, y_valid = train_test_split(X, y, test_size=0.2, random_state=123, stratify=y, shuffle=True)\n",
    "X_train.shape, X_valid.shape, y_train.shape, y_valid.shape"
   ]
  },
  {
   "cell_type": "markdown",
   "id": "df95b8de",
   "metadata": {
    "papermill": {
     "duration": 0.008144,
     "end_time": "2022-08-14T15:55:49.199294",
     "exception": false,
     "start_time": "2022-08-14T15:55:49.191150",
     "status": "completed"
    },
    "tags": []
   },
   "source": [
    "# Modeling"
   ]
  },
  {
   "cell_type": "markdown",
   "id": "2040d353",
   "metadata": {
    "papermill": {
     "duration": 0.007975,
     "end_time": "2022-08-14T15:55:49.215688",
     "exception": false,
     "start_time": "2022-08-14T15:55:49.207713",
     "status": "completed"
    },
    "tags": []
   },
   "source": [
    "### Search best model"
   ]
  },
  {
   "cell_type": "code",
   "execution_count": 13,
   "id": "cbb71788",
   "metadata": {
    "execution": {
     "iopub.execute_input": "2022-08-14T15:55:49.234591Z",
     "iopub.status.busy": "2022-08-14T15:55:49.233588Z",
     "iopub.status.idle": "2022-08-14T15:57:59.164734Z",
     "shell.execute_reply": "2022-08-14T15:57:59.163537Z"
    },
    "papermill": {
     "duration": 129.952863,
     "end_time": "2022-08-14T15:57:59.176821",
     "exception": false,
     "start_time": "2022-08-14T15:55:49.223958",
     "status": "completed"
    },
    "tags": []
   },
   "outputs": [
    {
     "name": "stdout",
     "output_type": "stream",
     "text": [
      "Model XGBClassifier(base_score=None, booster=None, callbacks=None,\n",
      "              colsample_bylevel=None, colsample_bynode=None,\n",
      "              colsample_bytree=None, early_stopping_rounds=None,\n",
      "              enable_categorical=False, eval_metric=None, gamma=None,\n",
      "              gpu_id=None, grow_policy=None, importance_type=None,\n",
      "              interaction_constraints=None, learning_rate=None, max_bin=None,\n",
      "              max_cat_to_onehot=None, max_delta_step=None, max_depth=None,\n",
      "              max_leaves=None, min_child_weight=None, missing=nan,\n",
      "              monotone_constraints=None, n_estimators=100, n_jobs=None,\n",
      "              num_parallel_tree=None, predictor=None, random_state=None,\n",
      "              reg_alpha=None, reg_lambda=None, ...) \n",
      "\n",
      "ROC AUC Score : 0.7199862696416433\n",
      "F1-score : 0.8048280573901162 \n",
      "\n",
      "Model LGBMClassifier() \n",
      "\n",
      "ROC AUC Score : 0.7454576172385088\n",
      "F1-score : 0.8189140638581446 \n",
      "\n",
      "Model <catboost.core.CatBoostClassifier object at 0x7ff23798d590> \n",
      "\n",
      "ROC AUC Score : 0.7901706829588573\n",
      "F1-score : 0.8449069920449787 \n",
      "\n"
     ]
    }
   ],
   "source": [
    "models = [XGBClassifier(), LGBMClassifier(), CatBoostClassifier(verbose=False)]\n",
    "\n",
    "for model in models:\n",
    "    print(f\"Model {model} \\n\")\n",
    "    # Fit Model\n",
    "    model.fit(X_train, y_train)\n",
    "\n",
    "    # Prediction\n",
    "    y_pred = model.predict(X_valid)\n",
    "\n",
    "    # Evaluation\n",
    "    print(\"ROC AUC Score :\", roc_auc_score(y_valid, y_pred))\n",
    "    print(\"F1-score :\", f1_score(y_valid, y_pred), \"\\n\")"
   ]
  },
  {
   "cell_type": "markdown",
   "id": "033621dd",
   "metadata": {
    "papermill": {
     "duration": 0.009094,
     "end_time": "2022-08-14T15:57:59.195898",
     "exception": false,
     "start_time": "2022-08-14T15:57:59.186804",
     "status": "completed"
    },
    "tags": []
   },
   "source": [
    "# Cross-Validation"
   ]
  },
  {
   "cell_type": "code",
   "execution_count": 14,
   "id": "4d39b790",
   "metadata": {
    "collapsed": true,
    "execution": {
     "iopub.execute_input": "2022-08-14T15:57:59.216738Z",
     "iopub.status.busy": "2022-08-14T15:57:59.216335Z",
     "iopub.status.idle": "2022-08-14T16:17:20.378866Z",
     "shell.execute_reply": "2022-08-14T16:17:20.377766Z"
    },
    "jupyter": {
     "outputs_hidden": true
    },
    "papermill": {
     "duration": 1161.184181,
     "end_time": "2022-08-14T16:17:20.389530",
     "exception": false,
     "start_time": "2022-08-14T15:57:59.205349",
     "status": "completed"
    },
    "tags": []
   },
   "outputs": [
    {
     "name": "stdout",
     "output_type": "stream",
     "text": [
      "**************  Fold 0  ************** \n",
      "\n",
      "ROC AUC Score : 0.7948832706300908\n",
      "F1-score : 0.8486218776916452 \n",
      "\n",
      "**************  Fold 1  ************** \n",
      "\n",
      "ROC AUC Score : 0.7979680168222033\n",
      "F1-score : 0.8503886010362695 \n",
      "\n",
      "**************  Fold 2  ************** \n",
      "\n",
      "ROC AUC Score : 0.7901923620773766\n",
      "F1-score : 0.8457658044434904 \n",
      "\n",
      "**************  Fold 3  ************** \n",
      "\n",
      "ROC AUC Score : 0.7914026707373989\n",
      "F1-score : 0.8449821756508589 \n",
      "\n",
      "**************  Fold 4  ************** \n",
      "\n",
      "ROC AUC Score : 0.7836854823633704\n",
      "F1-score : 0.8408749731932232 \n",
      "\n",
      "**************  Fold 5  ************** \n",
      "\n",
      "ROC AUC Score : 0.7883328967490473\n",
      "F1-score : 0.8439716312056739 \n",
      "\n",
      "**************  Fold 6  ************** \n",
      "\n",
      "ROC AUC Score : 0.7865986869456085\n",
      "F1-score : 0.8420372563798857 \n",
      "\n",
      "**************  Fold 7  ************** \n",
      "\n",
      "ROC AUC Score : 0.7916422490795167\n",
      "F1-score : 0.8452316664866616 \n",
      "\n",
      "**************  Fold 8  ************** \n",
      "\n",
      "ROC AUC Score : 0.7919042929859749\n",
      "F1-score : 0.8451891891891893 \n",
      "\n"
     ]
    }
   ],
   "source": [
    "skf = StratifiedKFold(n_splits=9, random_state=123, shuffle=True)\n",
    "\n",
    "y_prediction = []\n",
    "y_pred_prob  = []\n",
    "scores = []\n",
    "\n",
    "for fold, (train_index, val_index) in enumerate(skf.split(train['text'], y)):\n",
    "    print('*'*14, f\" Fold {fold} \", '*'*14, '\\n')\n",
    "\n",
    "    # Splitting Data\n",
    "    X_train, X_valid = train['text'][train_index], train['text'][val_index]\n",
    "    y_train, y_valid = y[train_index], y[val_index]\n",
    "    \n",
    "    #Vectorize sentences\n",
    "    X_train = vectorizer.fit_transform(X_train)\n",
    "    X_valid = vectorizer.transform(X_valid)\n",
    "    x_test_ = vectorizer.transform(test['text'])\n",
    "    \n",
    "    # Define model\n",
    "    catb_model = CatBoostClassifier(verbose=False)\n",
    "\n",
    "    # Fit Model\n",
    "    catb_model.fit(X_train, y_train)\n",
    "\n",
    "    # Prediction\n",
    "    y_pred = catb_model.predict(X_valid)\n",
    "\n",
    "    # Evaluation\n",
    "    ras = roc_auc_score(y_valid, y_pred)\n",
    "    scores.append(ras)\n",
    "    print(\"ROC AUC Score :\", ras)\n",
    "    print(\"F1-score :\", f1_score(y_valid, y_pred), '\\n')\n",
    "    \n",
    "    # Make test prediction\n",
    "    y_prediction.append( catb_model.predict(x_test_) )\n",
    "    y_pred_prob.append( catb_model.predict_proba(x_test_)[:,1] )\n",
    "    \n",
    "    # Free the memory\n",
    "    del X_train, X_valid, y_train, y_valid, catb_model, y_pred, ras\n",
    "    gc.collect()"
   ]
  },
  {
   "cell_type": "code",
   "execution_count": 15,
   "id": "91a392c0",
   "metadata": {
    "execution": {
     "iopub.execute_input": "2022-08-14T16:17:20.409846Z",
     "iopub.status.busy": "2022-08-14T16:17:20.409198Z",
     "iopub.status.idle": "2022-08-14T16:17:20.414475Z",
     "shell.execute_reply": "2022-08-14T16:17:20.413740Z"
    },
    "papermill": {
     "duration": 0.017827,
     "end_time": "2022-08-14T16:17:20.416651",
     "exception": false,
     "start_time": "2022-08-14T16:17:20.398824",
     "status": "completed"
    },
    "tags": []
   },
   "outputs": [
    {
     "name": "stdout",
     "output_type": "stream",
     "text": [
      "Mean ROC AUC Score :  0.790734436487843\n"
     ]
    }
   ],
   "source": [
    "print(\"Mean ROC AUC Score : \", np.array(scores).mean(axis=0) )"
   ]
  },
  {
   "cell_type": "code",
   "execution_count": 16,
   "id": "c59009c4",
   "metadata": {
    "execution": {
     "iopub.execute_input": "2022-08-14T16:17:20.437096Z",
     "iopub.status.busy": "2022-08-14T16:17:20.436436Z",
     "iopub.status.idle": "2022-08-14T16:19:38.062910Z",
     "shell.execute_reply": "2022-08-14T16:19:38.061849Z"
    },
    "papermill": {
     "duration": 137.63978,
     "end_time": "2022-08-14T16:19:38.065634",
     "exception": false,
     "start_time": "2022-08-14T16:17:20.425854",
     "status": "completed"
    },
    "tags": []
   },
   "outputs": [],
   "source": [
    "# Define model\n",
    "model = CatBoostClassifier(verbose=False)\n",
    "\n",
    "# Fit Model\n",
    "model.fit(X, y)\n",
    "\n",
    "# Make test prediction\n",
    "y_prediction.append( model.predict(x_test) )\n",
    "y_pred_prob.append( model.predict_proba(x_test)[:,1] )"
   ]
  },
  {
   "cell_type": "code",
   "execution_count": 17,
   "id": "fe2323e0",
   "metadata": {
    "execution": {
     "iopub.execute_input": "2022-08-14T16:19:38.086370Z",
     "iopub.status.busy": "2022-08-14T16:19:38.085973Z",
     "iopub.status.idle": "2022-08-14T16:19:38.116757Z",
     "shell.execute_reply": "2022-08-14T16:19:38.115740Z"
    },
    "papermill": {
     "duration": 0.043901,
     "end_time": "2022-08-14T16:19:38.119288",
     "exception": false,
     "start_time": "2022-08-14T16:19:38.075387",
     "status": "completed"
    },
    "tags": []
   },
   "outputs": [
    {
     "data": {
      "text/plain": [
       "(872, 872)"
      ]
     },
     "execution_count": 17,
     "metadata": {},
     "output_type": "execute_result"
    }
   ],
   "source": [
    "preds = stats.mode(y_prediction, axis=0)[0][0]\n",
    "len(preds), test.shape[0]"
   ]
  },
  {
   "cell_type": "markdown",
   "id": "1dc66a0d",
   "metadata": {
    "papermill": {
     "duration": 0.009293,
     "end_time": "2022-08-14T16:19:38.138104",
     "exception": false,
     "start_time": "2022-08-14T16:19:38.128811",
     "status": "completed"
    },
    "tags": []
   },
   "source": [
    "# Submission"
   ]
  },
  {
   "cell_type": "code",
   "execution_count": 18,
   "id": "3dc850b9",
   "metadata": {
    "execution": {
     "iopub.execute_input": "2022-08-14T16:19:38.158954Z",
     "iopub.status.busy": "2022-08-14T16:19:38.158213Z",
     "iopub.status.idle": "2022-08-14T16:19:38.177837Z",
     "shell.execute_reply": "2022-08-14T16:19:38.176689Z"
    },
    "papermill": {
     "duration": 0.032518,
     "end_time": "2022-08-14T16:19:38.180097",
     "exception": false,
     "start_time": "2022-08-14T16:19:38.147579",
     "status": "completed"
    },
    "tags": []
   },
   "outputs": [
    {
     "data": {
      "text/plain": [
       "1    527\n",
       "0    345\n",
       "Name: target, dtype: int64"
      ]
     },
     "execution_count": 18,
     "metadata": {},
     "output_type": "execute_result"
    }
   ],
   "source": [
    "sub = pd.read_csv('../input/stanford-sentiment-treebank/sample_submission.csv')\n",
    "sub.target = preds\n",
    "\n",
    "sub.target.value_counts()"
   ]
  },
  {
   "cell_type": "code",
   "execution_count": 19,
   "id": "3b56a9b9",
   "metadata": {
    "execution": {
     "iopub.execute_input": "2022-08-14T16:19:38.201462Z",
     "iopub.status.busy": "2022-08-14T16:19:38.200310Z",
     "iopub.status.idle": "2022-08-14T16:19:38.209300Z",
     "shell.execute_reply": "2022-08-14T16:19:38.208349Z"
    },
    "papermill": {
     "duration": 0.022255,
     "end_time": "2022-08-14T16:19:38.211868",
     "exception": false,
     "start_time": "2022-08-14T16:19:38.189613",
     "status": "completed"
    },
    "tags": []
   },
   "outputs": [],
   "source": [
    "sub.to_csv(\"submission.csv\", index=False)"
   ]
  },
  {
   "cell_type": "markdown",
   "id": "cf489c44",
   "metadata": {
    "papermill": {
     "duration": 0.009225,
     "end_time": "2022-08-14T16:19:38.230863",
     "exception": false,
     "start_time": "2022-08-14T16:19:38.221638",
     "status": "completed"
    },
    "tags": []
   },
   "source": [
    "- Save preiction proba data"
   ]
  },
  {
   "cell_type": "code",
   "execution_count": 20,
   "id": "0ce77545",
   "metadata": {
    "execution": {
     "iopub.execute_input": "2022-08-14T16:19:38.251768Z",
     "iopub.status.busy": "2022-08-14T16:19:38.251081Z",
     "iopub.status.idle": "2022-08-14T16:19:38.261623Z",
     "shell.execute_reply": "2022-08-14T16:19:38.260546Z"
    },
    "papermill": {
     "duration": 0.023901,
     "end_time": "2022-08-14T16:19:38.264217",
     "exception": false,
     "start_time": "2022-08-14T16:19:38.240316",
     "status": "completed"
    },
    "tags": []
   },
   "outputs": [],
   "source": [
    "sub.target = np.array(y_pred_prob).mean(axis=0)\n",
    "sub.to_csv(\"submission_proba.csv\", index=False)"
   ]
  }
 ],
 "metadata": {
  "kernelspec": {
   "display_name": "Python 3",
   "language": "python",
   "name": "python3"
  },
  "language_info": {
   "codemirror_mode": {
    "name": "ipython",
    "version": 3
   },
   "file_extension": ".py",
   "mimetype": "text/x-python",
   "name": "python",
   "nbconvert_exporter": "python",
   "pygments_lexer": "ipython3",
   "version": "3.7.12"
  },
  "papermill": {
   "default_parameters": {},
   "duration": 1444.978613,
   "end_time": "2022-08-14T16:19:39.199454",
   "environment_variables": {},
   "exception": null,
   "input_path": "__notebook__.ipynb",
   "output_path": "__notebook__.ipynb",
   "parameters": {},
   "start_time": "2022-08-14T15:55:34.220841",
   "version": "2.3.4"
  }
 },
 "nbformat": 4,
 "nbformat_minor": 5
}
