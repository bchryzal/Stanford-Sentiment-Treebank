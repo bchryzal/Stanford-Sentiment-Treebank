{
 "cells": [
  {
   "cell_type": "markdown",
   "id": "31c3def8",
   "metadata": {
    "papermill": {
     "duration": 0.007665,
     "end_time": "2022-08-25T09:53:49.602375",
     "exception": false,
     "start_time": "2022-08-25T09:53:49.594710",
     "status": "completed"
    },
    "tags": []
   },
   "source": [
    "# Stanford Sentiment Treebank : Baseline Bert\n",
    "The objective of this competition is to classify sentences as carrying a positive or negative sentiment.\n",
    "\n",
    "\n",
    "<br>\n",
    "\n",
    "**Datasets** :\n",
    "- Stanford Sentiment Treebank : [here](https://www.kaggle.com/competitions/stanford-sentiment-treebank/data)\n",
    "- Huggingface BERT Variants   : [here](https://www.kaggle.com/datasets/sauravmaheshkar/huggingface-bert-variants)\n",
    "\n"
   ]
  },
  {
   "cell_type": "code",
   "execution_count": 1,
   "id": "cf9fcb9c",
   "metadata": {
    "_cell_guid": "b1076dfc-b9ad-4769-8c92-a6c4dae69d19",
    "_kg_hide-output": true,
    "_uuid": "8f2839f25d086af736a60e9eeb907d3b93b6e0e5",
    "execution": {
     "iopub.execute_input": "2022-08-25T09:53:49.618002Z",
     "iopub.status.busy": "2022-08-25T09:53:49.617216Z",
     "iopub.status.idle": "2022-08-25T09:54:02.867727Z",
     "shell.execute_reply": "2022-08-25T09:54:02.866616Z"
    },
    "papermill": {
     "duration": 13.263354,
     "end_time": "2022-08-25T09:54:02.872509",
     "exception": false,
     "start_time": "2022-08-25T09:53:49.609155",
     "status": "completed"
    },
    "tags": []
   },
   "outputs": [
    {
     "name": "stderr",
     "output_type": "stream",
     "text": [
      "2022-08-25 09:53:57.795353: I tensorflow/stream_executor/cuda/cuda_gpu_executor.cc:937] successful NUMA node read from SysFS had negative value (-1), but there must be at least one NUMA node, so returning NUMA node zero\n",
      "2022-08-25 09:53:57.796437: I tensorflow/stream_executor/cuda/cuda_gpu_executor.cc:937] successful NUMA node read from SysFS had negative value (-1), but there must be at least one NUMA node, so returning NUMA node zero\n",
      "2022-08-25 09:53:57.797130: I tensorflow/stream_executor/cuda/cuda_gpu_executor.cc:937] successful NUMA node read from SysFS had negative value (-1), but there must be at least one NUMA node, so returning NUMA node zero\n",
      "2022-08-25 09:53:57.799036: I tensorflow/core/platform/cpu_feature_guard.cc:142] This TensorFlow binary is optimized with oneAPI Deep Neural Network Library (oneDNN) to use the following CPU instructions in performance-critical operations:  AVX2 AVX512F FMA\n",
      "To enable them in other operations, rebuild TensorFlow with the appropriate compiler flags.\n",
      "2022-08-25 09:53:57.799371: I tensorflow/stream_executor/cuda/cuda_gpu_executor.cc:937] successful NUMA node read from SysFS had negative value (-1), but there must be at least one NUMA node, so returning NUMA node zero\n",
      "2022-08-25 09:53:57.800109: I tensorflow/stream_executor/cuda/cuda_gpu_executor.cc:937] successful NUMA node read from SysFS had negative value (-1), but there must be at least one NUMA node, so returning NUMA node zero\n",
      "2022-08-25 09:53:57.800834: I tensorflow/stream_executor/cuda/cuda_gpu_executor.cc:937] successful NUMA node read from SysFS had negative value (-1), but there must be at least one NUMA node, so returning NUMA node zero\n",
      "2022-08-25 09:54:02.472567: I tensorflow/stream_executor/cuda/cuda_gpu_executor.cc:937] successful NUMA node read from SysFS had negative value (-1), but there must be at least one NUMA node, so returning NUMA node zero\n",
      "2022-08-25 09:54:02.473446: I tensorflow/stream_executor/cuda/cuda_gpu_executor.cc:937] successful NUMA node read from SysFS had negative value (-1), but there must be at least one NUMA node, so returning NUMA node zero\n",
      "2022-08-25 09:54:02.474188: I tensorflow/stream_executor/cuda/cuda_gpu_executor.cc:937] successful NUMA node read from SysFS had negative value (-1), but there must be at least one NUMA node, so returning NUMA node zero\n",
      "2022-08-25 09:54:02.474832: I tensorflow/core/common_runtime/gpu/gpu_device.cc:1510] Created device /job:localhost/replica:0/task:0/device:GPU:0 with 15047 MB memory:  -> device: 0, name: Tesla P100-PCIE-16GB, pci bus id: 0000:00:04.0, compute capability: 6.0\n"
     ]
    }
   ],
   "source": [
    "import numpy as np # linear algebra\n",
    "import pandas as pd # data processing, CSV file I/O (e.g. pd.read_csv)\n",
    "\n",
    "import os, gc, re\n",
    "\n",
    "import tensorflow as tf\n",
    "from tensorflow.keras.layers import Dense, Input, Dropout\n",
    "from tensorflow.keras.optimizers import Adam\n",
    "from tensorflow.keras.models import Model\n",
    "from transformers import TFBertModel\n",
    "import transformers\n",
    "\n",
    "from sklearn.metrics import f1_score, mean_squared_error\n",
    "\n",
    "from sklearn.model_selection import StratifiedKFold"
   ]
  },
  {
   "cell_type": "markdown",
   "id": "87f7a3a4",
   "metadata": {
    "papermill": {
     "duration": 0.006981,
     "end_time": "2022-08-25T09:54:02.887496",
     "exception": false,
     "start_time": "2022-08-25T09:54:02.880515",
     "status": "completed"
    },
    "tags": []
   },
   "source": [
    "# Loading data"
   ]
  },
  {
   "cell_type": "code",
   "execution_count": 2,
   "id": "4b46a37c",
   "metadata": {
    "execution": {
     "iopub.execute_input": "2022-08-25T09:54:02.902600Z",
     "iopub.status.busy": "2022-08-25T09:54:02.901968Z",
     "iopub.status.idle": "2022-08-25T09:54:03.069499Z",
     "shell.execute_reply": "2022-08-25T09:54:03.068246Z"
    },
    "papermill": {
     "duration": 0.178652,
     "end_time": "2022-08-25T09:54:03.072930",
     "exception": false,
     "start_time": "2022-08-25T09:54:02.894278",
     "status": "completed"
    },
    "tags": []
   },
   "outputs": [
    {
     "data": {
      "text/plain": [
       "((67349, 3), (872, 2))"
      ]
     },
     "execution_count": 2,
     "metadata": {},
     "output_type": "execute_result"
    }
   ],
   "source": [
    "train = pd.read_csv(\"../input/stanford-sentiment-treebank/train.csv\")\n",
    "test = pd.read_csv(\"../input/stanford-sentiment-treebank/test.csv\")\n",
    "\n",
    "train.shape, test.shape"
   ]
  },
  {
   "cell_type": "code",
   "execution_count": 3,
   "id": "cce6781e",
   "metadata": {
    "execution": {
     "iopub.execute_input": "2022-08-25T09:54:03.102401Z",
     "iopub.status.busy": "2022-08-25T09:54:03.102000Z",
     "iopub.status.idle": "2022-08-25T09:54:03.125508Z",
     "shell.execute_reply": "2022-08-25T09:54:03.124193Z"
    },
    "papermill": {
     "duration": 0.043585,
     "end_time": "2022-08-25T09:54:03.128957",
     "exception": false,
     "start_time": "2022-08-25T09:54:03.085372",
     "status": "completed"
    },
    "tags": []
   },
   "outputs": [
    {
     "data": {
      "text/html": [
       "<div>\n",
       "<style scoped>\n",
       "    .dataframe tbody tr th:only-of-type {\n",
       "        vertical-align: middle;\n",
       "    }\n",
       "\n",
       "    .dataframe tbody tr th {\n",
       "        vertical-align: top;\n",
       "    }\n",
       "\n",
       "    .dataframe thead th {\n",
       "        text-align: right;\n",
       "    }\n",
       "</style>\n",
       "<table border=\"1\" class=\"dataframe\">\n",
       "  <thead>\n",
       "    <tr style=\"text-align: right;\">\n",
       "      <th></th>\n",
       "      <th>id</th>\n",
       "      <th>target</th>\n",
       "      <th>sentence</th>\n",
       "    </tr>\n",
       "  </thead>\n",
       "  <tbody>\n",
       "    <tr>\n",
       "      <th>0</th>\n",
       "      <td>16399</td>\n",
       "      <td>0</td>\n",
       "      <td>b'for the uninitiated plays better on video wi...</td>\n",
       "    </tr>\n",
       "    <tr>\n",
       "      <th>1</th>\n",
       "      <td>1680</td>\n",
       "      <td>0</td>\n",
       "      <td>b'like a giant commercial for universal studio...</td>\n",
       "    </tr>\n",
       "    <tr>\n",
       "      <th>2</th>\n",
       "      <td>47917</td>\n",
       "      <td>1</td>\n",
       "      <td>b'company once again dazzle and delight us '</td>\n",
       "    </tr>\n",
       "    <tr>\n",
       "      <th>3</th>\n",
       "      <td>17307</td>\n",
       "      <td>1</td>\n",
       "      <td>b\"'s no surprise that as a director washington...</td>\n",
       "    </tr>\n",
       "    <tr>\n",
       "      <th>4</th>\n",
       "      <td>27051</td>\n",
       "      <td>0</td>\n",
       "      <td>b', this cross-cultural soap opera is painfull...</td>\n",
       "    </tr>\n",
       "  </tbody>\n",
       "</table>\n",
       "</div>"
      ],
      "text/plain": [
       "      id  target                                           sentence\n",
       "0  16399       0  b'for the uninitiated plays better on video wi...\n",
       "1   1680       0  b'like a giant commercial for universal studio...\n",
       "2  47917       1       b'company once again dazzle and delight us '\n",
       "3  17307       1  b\"'s no surprise that as a director washington...\n",
       "4  27051       0  b', this cross-cultural soap opera is painfull..."
      ]
     },
     "execution_count": 3,
     "metadata": {},
     "output_type": "execute_result"
    }
   ],
   "source": [
    "train.head()"
   ]
  },
  {
   "cell_type": "markdown",
   "id": "73d1fabe",
   "metadata": {
    "papermill": {
     "duration": 0.016564,
     "end_time": "2022-08-25T09:54:03.164218",
     "exception": false,
     "start_time": "2022-08-25T09:54:03.147654",
     "status": "completed"
    },
    "tags": []
   },
   "source": [
    "- Checking Missing Values"
   ]
  },
  {
   "cell_type": "code",
   "execution_count": 4,
   "id": "1a2fac7f",
   "metadata": {
    "execution": {
     "iopub.execute_input": "2022-08-25T09:54:03.191179Z",
     "iopub.status.busy": "2022-08-25T09:54:03.190309Z",
     "iopub.status.idle": "2022-08-25T09:54:03.213247Z",
     "shell.execute_reply": "2022-08-25T09:54:03.212097Z"
    },
    "papermill": {
     "duration": 0.037712,
     "end_time": "2022-08-25T09:54:03.216073",
     "exception": false,
     "start_time": "2022-08-25T09:54:03.178361",
     "status": "completed"
    },
    "tags": []
   },
   "outputs": [
    {
     "data": {
      "text/plain": [
       "(False, False)"
      ]
     },
     "execution_count": 4,
     "metadata": {},
     "output_type": "execute_result"
    }
   ],
   "source": [
    "train.isna().sum().any(), test.isna().sum().any()"
   ]
  },
  {
   "cell_type": "markdown",
   "id": "da5c6001",
   "metadata": {
    "papermill": {
     "duration": 0.01161,
     "end_time": "2022-08-25T09:54:03.240550",
     "exception": false,
     "start_time": "2022-08-25T09:54:03.228940",
     "status": "completed"
    },
    "tags": []
   },
   "source": [
    "- Checking target distribution"
   ]
  },
  {
   "cell_type": "code",
   "execution_count": 5,
   "id": "6c2dd32b",
   "metadata": {
    "execution": {
     "iopub.execute_input": "2022-08-25T09:54:03.265980Z",
     "iopub.status.busy": "2022-08-25T09:54:03.265540Z",
     "iopub.status.idle": "2022-08-25T09:54:03.280681Z",
     "shell.execute_reply": "2022-08-25T09:54:03.279559Z"
    },
    "papermill": {
     "duration": 0.032233,
     "end_time": "2022-08-25T09:54:03.284741",
     "exception": false,
     "start_time": "2022-08-25T09:54:03.252508",
     "status": "completed"
    },
    "tags": []
   },
   "outputs": [
    {
     "data": {
      "text/plain": [
       "1    37569\n",
       "0    29780\n",
       "Name: target, dtype: int64"
      ]
     },
     "execution_count": 5,
     "metadata": {},
     "output_type": "execute_result"
    }
   ],
   "source": [
    "train[\"target\"].value_counts()"
   ]
  },
  {
   "cell_type": "markdown",
   "id": "1a047822",
   "metadata": {
    "papermill": {
     "duration": 0.011928,
     "end_time": "2022-08-25T09:54:03.309380",
     "exception": false,
     "start_time": "2022-08-25T09:54:03.297452",
     "status": "completed"
    },
    "tags": []
   },
   "source": [
    "# Pre-processing Data"
   ]
  },
  {
   "cell_type": "markdown",
   "id": "60028fd9",
   "metadata": {
    "papermill": {
     "duration": 0.011627,
     "end_time": "2022-08-25T09:54:03.333360",
     "exception": false,
     "start_time": "2022-08-25T09:54:03.321733",
     "status": "completed"
    },
    "tags": []
   },
   "source": [
    "### Data Cleaning"
   ]
  },
  {
   "cell_type": "code",
   "execution_count": 6,
   "id": "e310accd",
   "metadata": {
    "execution": {
     "iopub.execute_input": "2022-08-25T09:54:03.360691Z",
     "iopub.status.busy": "2022-08-25T09:54:03.360183Z",
     "iopub.status.idle": "2022-08-25T09:54:03.368332Z",
     "shell.execute_reply": "2022-08-25T09:54:03.367507Z"
    },
    "papermill": {
     "duration": 0.024912,
     "end_time": "2022-08-25T09:54:03.370873",
     "exception": false,
     "start_time": "2022-08-25T09:54:03.345961",
     "status": "completed"
    },
    "tags": []
   },
   "outputs": [],
   "source": [
    "def data_clean(document):\n",
    "    \n",
    "    document = document.replace(\"b',\", '')\n",
    "    document = document.replace(\"b'\", '')\n",
    "    \n",
    "    # Remove all the special characters\n",
    "    document = re.sub(r'\\W', ' ', str(document))\n",
    "    \n",
    "    # remove all single characters\n",
    "    document = re.sub(r'\\s+[a-zA-Z]\\s+', ' ', document)\n",
    "\n",
    "    # Remove single characters from the start\n",
    "    document = re.sub(r'\\^[a-zA-Z]\\s+', ' ', document)\n",
    "    \n",
    "    return document\n"
   ]
  },
  {
   "cell_type": "code",
   "execution_count": 7,
   "id": "7e3aa989",
   "metadata": {
    "execution": {
     "iopub.execute_input": "2022-08-25T09:54:03.392714Z",
     "iopub.status.busy": "2022-08-25T09:54:03.392375Z",
     "iopub.status.idle": "2022-08-25T09:54:04.062031Z",
     "shell.execute_reply": "2022-08-25T09:54:04.061029Z"
    },
    "papermill": {
     "duration": 0.683408,
     "end_time": "2022-08-25T09:54:04.064521",
     "exception": false,
     "start_time": "2022-08-25T09:54:03.381113",
     "status": "completed"
    },
    "tags": []
   },
   "outputs": [],
   "source": [
    "train['text'] = train.sentence.apply(data_clean)\n",
    "test['text'] = test.sentence.apply(data_clean)"
   ]
  },
  {
   "cell_type": "markdown",
   "id": "3c1ceaa7",
   "metadata": {
    "papermill": {
     "duration": 0.007165,
     "end_time": "2022-08-25T09:54:04.078994",
     "exception": false,
     "start_time": "2022-08-25T09:54:04.071829",
     "status": "completed"
    },
    "tags": []
   },
   "source": [
    "### Configuration"
   ]
  },
  {
   "cell_type": "code",
   "execution_count": 8,
   "id": "82ad676f",
   "metadata": {
    "execution": {
     "iopub.execute_input": "2022-08-25T09:54:04.095587Z",
     "iopub.status.busy": "2022-08-25T09:54:04.094901Z",
     "iopub.status.idle": "2022-08-25T09:54:04.099846Z",
     "shell.execute_reply": "2022-08-25T09:54:04.098778Z"
    },
    "papermill": {
     "duration": 0.015976,
     "end_time": "2022-08-25T09:54:04.102296",
     "exception": false,
     "start_time": "2022-08-25T09:54:04.086320",
     "status": "completed"
    },
    "tags": []
   },
   "outputs": [],
   "source": [
    "AUTO = tf.data.experimental.AUTOTUNE\n",
    "\n",
    "# Configuration\n",
    "BATCH_SIZE = 16\n",
    "MAX_LEN = 256"
   ]
  },
  {
   "cell_type": "markdown",
   "id": "355a0ace",
   "metadata": {
    "papermill": {
     "duration": 0.006854,
     "end_time": "2022-08-25T09:54:04.116210",
     "exception": false,
     "start_time": "2022-08-25T09:54:04.109356",
     "status": "completed"
    },
    "tags": []
   },
   "source": [
    "### Bert Encoder"
   ]
  },
  {
   "cell_type": "code",
   "execution_count": 9,
   "id": "07531243",
   "metadata": {
    "execution": {
     "iopub.execute_input": "2022-08-25T09:54:04.131331Z",
     "iopub.status.busy": "2022-08-25T09:54:04.131045Z",
     "iopub.status.idle": "2022-08-25T09:54:04.137348Z",
     "shell.execute_reply": "2022-08-25T09:54:04.136322Z"
    },
    "papermill": {
     "duration": 0.01652,
     "end_time": "2022-08-25T09:54:04.139674",
     "exception": false,
     "start_time": "2022-08-25T09:54:04.123154",
     "status": "completed"
    },
    "tags": []
   },
   "outputs": [],
   "source": [
    "def bert_encode(texts, tokenizer, max_len=MAX_LEN):\n",
    "    input_ids = []\n",
    "    token_type_ids = []\n",
    "    attention_mask = []\n",
    "    \n",
    "    for text in texts:\n",
    "        token = tokenizer(text, max_length=max_len, truncation=True, padding='max_length',\n",
    "                         add_special_tokens=True)\n",
    "        input_ids.append(token['input_ids'])\n",
    "        token_type_ids.append(token['token_type_ids'])\n",
    "        attention_mask.append(token['attention_mask'])\n",
    "    \n",
    "    return np.array(input_ids), np.array(token_type_ids), np.array(attention_mask)"
   ]
  },
  {
   "cell_type": "markdown",
   "id": "52c11440",
   "metadata": {
    "papermill": {
     "duration": 0.006895,
     "end_time": "2022-08-25T09:54:04.153939",
     "exception": false,
     "start_time": "2022-08-25T09:54:04.147044",
     "status": "completed"
    },
    "tags": []
   },
   "source": [
    "### Loading bert tokenizer"
   ]
  },
  {
   "cell_type": "code",
   "execution_count": 10,
   "id": "b3634650",
   "metadata": {
    "execution": {
     "iopub.execute_input": "2022-08-25T09:54:04.169735Z",
     "iopub.status.busy": "2022-08-25T09:54:04.169452Z",
     "iopub.status.idle": "2022-08-25T09:54:04.243829Z",
     "shell.execute_reply": "2022-08-25T09:54:04.242945Z"
    },
    "papermill": {
     "duration": 0.085259,
     "end_time": "2022-08-25T09:54:04.246282",
     "exception": false,
     "start_time": "2022-08-25T09:54:04.161023",
     "status": "completed"
    },
    "tags": []
   },
   "outputs": [],
   "source": [
    "bert_base = '../input/huggingface-bert-variants/bert-base-cased/bert-base-cased'\n",
    "\n",
    "tokenizer = transformers.BertTokenizer.from_pretrained(bert_base)\n"
   ]
  },
  {
   "cell_type": "markdown",
   "id": "4af5921c",
   "metadata": {
    "papermill": {
     "duration": 0.0068,
     "end_time": "2022-08-25T09:54:04.260306",
     "exception": false,
     "start_time": "2022-08-25T09:54:04.253506",
     "status": "completed"
    },
    "tags": []
   },
   "source": [
    "### Splitting Data"
   ]
  },
  {
   "cell_type": "code",
   "execution_count": 11,
   "id": "57f62c84",
   "metadata": {
    "_kg_hide-output": true,
    "execution": {
     "iopub.execute_input": "2022-08-25T09:54:04.277076Z",
     "iopub.status.busy": "2022-08-25T09:54:04.275600Z",
     "iopub.status.idle": "2022-08-25T09:54:04.285456Z",
     "shell.execute_reply": "2022-08-25T09:54:04.284444Z"
    },
    "papermill": {
     "duration": 0.01967,
     "end_time": "2022-08-25T09:54:04.287381",
     "exception": false,
     "start_time": "2022-08-25T09:54:04.267711",
     "status": "completed"
    },
    "tags": []
   },
   "outputs": [
    {
     "data": {
      "text/plain": [
       "0        0\n",
       "1        0\n",
       "2        1\n",
       "3        1\n",
       "4        0\n",
       "        ..\n",
       "67344    0\n",
       "67345    1\n",
       "67346    1\n",
       "67347    0\n",
       "67348    0\n",
       "Name: target, Length: 67349, dtype: int64"
      ]
     },
     "execution_count": 11,
     "metadata": {},
     "output_type": "execute_result"
    }
   ],
   "source": [
    "y = train.pop('target')\n",
    "y"
   ]
  },
  {
   "cell_type": "markdown",
   "id": "2ca8d7ec",
   "metadata": {
    "papermill": {
     "duration": 0.006885,
     "end_time": "2022-08-25T09:54:04.301374",
     "exception": false,
     "start_time": "2022-08-25T09:54:04.294489",
     "status": "completed"
    },
    "tags": []
   },
   "source": [
    "### Setup GPU"
   ]
  },
  {
   "cell_type": "code",
   "execution_count": 12,
   "id": "49074445",
   "metadata": {
    "_kg_hide-output": true,
    "execution": {
     "iopub.execute_input": "2022-08-25T09:54:04.318196Z",
     "iopub.status.busy": "2022-08-25T09:54:04.316772Z",
     "iopub.status.idle": "2022-08-25T09:54:04.324571Z",
     "shell.execute_reply": "2022-08-25T09:54:04.322715Z"
    },
    "papermill": {
     "duration": 0.018615,
     "end_time": "2022-08-25T09:54:04.327216",
     "exception": false,
     "start_time": "2022-08-25T09:54:04.308601",
     "status": "completed"
    },
    "tags": []
   },
   "outputs": [
    {
     "name": "stdout",
     "output_type": "stream",
     "text": [
      "1 Physical GPUs, 1 Logical GPU\n"
     ]
    }
   ],
   "source": [
    "gpus = tf.config.list_physical_devices('GPU')\n",
    "if gpus:\n",
    "  # Restrict TensorFlow to only use the first GPU\n",
    "  try:\n",
    "    tf.config.set_visible_devices(gpus[0], 'GPU')\n",
    "    logical_gpus = tf.config.list_logical_devices('GPU')\n",
    "    print(len(gpus), \"Physical GPUs,\", len(logical_gpus), \"Logical GPU\")\n",
    "  except RuntimeError as e:\n",
    "    # Visible devices must be set before GPUs have been initialized\n",
    "    print(e)"
   ]
  },
  {
   "cell_type": "markdown",
   "id": "fd5dbbc2",
   "metadata": {
    "papermill": {
     "duration": 0.006924,
     "end_time": "2022-08-25T09:54:04.341627",
     "exception": false,
     "start_time": "2022-08-25T09:54:04.334703",
     "status": "completed"
    },
    "tags": []
   },
   "source": [
    "# Modeling"
   ]
  },
  {
   "cell_type": "code",
   "execution_count": 13,
   "id": "d8ba7f8a",
   "metadata": {
    "execution": {
     "iopub.execute_input": "2022-08-25T09:54:04.359266Z",
     "iopub.status.busy": "2022-08-25T09:54:04.357651Z",
     "iopub.status.idle": "2022-08-25T09:54:04.366280Z",
     "shell.execute_reply": "2022-08-25T09:54:04.365438Z"
    },
    "papermill": {
     "duration": 0.01914,
     "end_time": "2022-08-25T09:54:04.368119",
     "exception": false,
     "start_time": "2022-08-25T09:54:04.348979",
     "status": "completed"
    },
    "tags": []
   },
   "outputs": [],
   "source": [
    "def build_model(bert_model, max_len=MAX_LEN):    \n",
    "    input_ids = Input(shape=(max_len,), dtype=tf.int32, name=\"input_ids\")\n",
    "    token_type_ids = Input(shape=(max_len,), dtype=tf.int32, name=\"token_type_ids\")\n",
    "    attention_mask = Input(shape=(max_len,), dtype=tf.int32, name=\"attention_mask\")\n",
    "\n",
    "    sequence_output = bert_model.bert(input_ids, token_type_ids=token_type_ids, attention_mask=attention_mask)[0]\n",
    "    clf_output = sequence_output[:, 0, :]\n",
    "    clf_output = Dropout(.1)(clf_output)\n",
    "    out = Dense(1, activation='sigmoid')(clf_output)\n",
    "    \n",
    "    model = Model(inputs=[input_ids, token_type_ids, attention_mask], outputs=out)\n",
    "    model.compile(Adam(learning_rate=1e-5), loss='binary_crossentropy', metrics=['accuracy'])\n",
    "    \n",
    "    return model"
   ]
  },
  {
   "cell_type": "code",
   "execution_count": 14,
   "id": "81f0fb2b",
   "metadata": {
    "_kg_hide-output": true,
    "collapsed": true,
    "execution": {
     "iopub.execute_input": "2022-08-25T09:54:04.384772Z",
     "iopub.status.busy": "2022-08-25T09:54:04.383391Z",
     "iopub.status.idle": "2022-08-25T09:54:13.718762Z",
     "shell.execute_reply": "2022-08-25T09:54:13.716933Z"
    },
    "jupyter": {
     "outputs_hidden": true
    },
    "papermill": {
     "duration": 9.345658,
     "end_time": "2022-08-25T09:54:13.721145",
     "exception": false,
     "start_time": "2022-08-25T09:54:04.375487",
     "status": "completed"
    },
    "tags": []
   },
   "outputs": [
    {
     "name": "stderr",
     "output_type": "stream",
     "text": [
      "Some layers from the model checkpoint at ../input/huggingface-bert-variants/bert-base-cased/bert-base-cased were not used when initializing TFBertModel: ['nsp___cls', 'mlm___cls']\n",
      "- This IS expected if you are initializing TFBertModel from the checkpoint of a model trained on another task or with another architecture (e.g. initializing a BertForSequenceClassification model from a BertForPreTraining model).\n",
      "- This IS NOT expected if you are initializing TFBertModel from the checkpoint of a model that you expect to be exactly identical (initializing a BertForSequenceClassification model from a BertForSequenceClassification model).\n",
      "All the layers of TFBertModel were initialized from the model checkpoint at ../input/huggingface-bert-variants/bert-base-cased/bert-base-cased.\n",
      "If your task is similar to the task the model of the checkpoint was trained on, you can already use TFBertModel for predictions without further training.\n"
     ]
    },
    {
     "name": "stdout",
     "output_type": "stream",
     "text": [
      "CPU times: user 991 ms, sys: 600 ms, total: 1.59 s\n",
      "Wall time: 9.33 s\n"
     ]
    }
   ],
   "source": [
    "%%time\n",
    "transformer_layer = (TFBertModel.from_pretrained(bert_base))\n",
    "#model = build_model(transformer_layer, max_len=MAX_LEN)\n",
    "#model.summary()"
   ]
  },
  {
   "cell_type": "markdown",
   "id": "6317382c",
   "metadata": {
    "papermill": {
     "duration": 0.007534,
     "end_time": "2022-08-25T09:54:13.736501",
     "exception": false,
     "start_time": "2022-08-25T09:54:13.728967",
     "status": "completed"
    },
    "tags": []
   },
   "source": [
    "### Callback"
   ]
  },
  {
   "cell_type": "code",
   "execution_count": 15,
   "id": "7a54b264",
   "metadata": {
    "_kg_hide-output": true,
    "execution": {
     "iopub.execute_input": "2022-08-25T09:54:13.752823Z",
     "iopub.status.busy": "2022-08-25T09:54:13.752539Z",
     "iopub.status.idle": "2022-08-25T09:54:13.757976Z",
     "shell.execute_reply": "2022-08-25T09:54:13.756895Z"
    },
    "papermill": {
     "duration": 0.016268,
     "end_time": "2022-08-25T09:54:13.760169",
     "exception": false,
     "start_time": "2022-08-25T09:54:13.743901",
     "status": "completed"
    },
    "tags": []
   },
   "outputs": [],
   "source": [
    "early_stopping = tf.keras.callbacks.EarlyStopping(\n",
    "    patience=3,\n",
    "    #min_delta=0.001,\n",
    "    restore_best_weights=True,\n",
    ")\n",
    "\n",
    "reduce_lr = tf.keras.callbacks.ReduceLROnPlateau(\n",
    "    monitor='val_loss', factor=0.75,\n",
    "    patience=4, #min_lr=1357e-6\n",
    ")"
   ]
  },
  {
   "cell_type": "code",
   "execution_count": 16,
   "id": "48cf6bcf",
   "metadata": {
    "execution": {
     "iopub.execute_input": "2022-08-25T09:54:13.776471Z",
     "iopub.status.busy": "2022-08-25T09:54:13.776188Z",
     "iopub.status.idle": "2022-08-25T09:54:13.781986Z",
     "shell.execute_reply": "2022-08-25T09:54:13.781075Z"
    },
    "papermill": {
     "duration": 0.016175,
     "end_time": "2022-08-25T09:54:13.784044",
     "exception": false,
     "start_time": "2022-08-25T09:54:13.767869",
     "status": "completed"
    },
    "tags": []
   },
   "outputs": [],
   "source": [
    "def plot_curve(history=pd.DataFrame()):\n",
    "    history_df = pd.DataFrame(history.history)\n",
    "    # Start the plot at epoch 0\n",
    "    history_df.loc[0:, ['loss', 'val_loss']].plot()\n",
    "    history_df.loc[0:, ['accuracy', 'val_accuracy']].plot()\n",
    "\n",
    "    print((\"Best Validation Loss: {:0.4f}\" +\\\n",
    "          \"\\nBest Validation Accuracy: {:0.4f}\")\\\n",
    "          .format(history_df['val_loss'].min(), \n",
    "                  history_df['val_accuracy'].max()))"
   ]
  },
  {
   "cell_type": "markdown",
   "id": "8b96e9ca",
   "metadata": {
    "papermill": {
     "duration": 0.007326,
     "end_time": "2022-08-25T09:54:13.799173",
     "exception": false,
     "start_time": "2022-08-25T09:54:13.791847",
     "status": "completed"
    },
    "tags": []
   },
   "source": [
    "### Bert Encode test data"
   ]
  },
  {
   "cell_type": "code",
   "execution_count": 17,
   "id": "f551dc1d",
   "metadata": {
    "execution": {
     "iopub.execute_input": "2022-08-25T09:54:13.815549Z",
     "iopub.status.busy": "2022-08-25T09:54:13.815251Z",
     "iopub.status.idle": "2022-08-25T09:54:14.550182Z",
     "shell.execute_reply": "2022-08-25T09:54:14.548991Z"
    },
    "papermill": {
     "duration": 0.746483,
     "end_time": "2022-08-25T09:54:14.553290",
     "exception": false,
     "start_time": "2022-08-25T09:54:13.806807",
     "status": "completed"
    },
    "tags": []
   },
   "outputs": [],
   "source": [
    "test_text = bert_encode(test.text.astype(str), tokenizer)"
   ]
  },
  {
   "cell_type": "markdown",
   "id": "3fc74b87",
   "metadata": {
    "papermill": {
     "duration": 0.011141,
     "end_time": "2022-08-25T09:54:14.576955",
     "exception": false,
     "start_time": "2022-08-25T09:54:14.565814",
     "status": "completed"
    },
    "tags": []
   },
   "source": [
    "# Cross-Validation"
   ]
  },
  {
   "cell_type": "code",
   "execution_count": 18,
   "id": "b7547532",
   "metadata": {
    "_kg_hide-output": true,
    "execution": {
     "iopub.execute_input": "2022-08-25T09:54:14.602316Z",
     "iopub.status.busy": "2022-08-25T09:54:14.601776Z",
     "iopub.status.idle": "2022-08-25T12:56:46.269405Z",
     "shell.execute_reply": "2022-08-25T12:56:46.268215Z"
    },
    "papermill": {
     "duration": 10951.686194,
     "end_time": "2022-08-25T12:56:46.274929",
     "exception": false,
     "start_time": "2022-08-25T09:54:14.588735",
     "status": "completed"
    },
    "tags": []
   },
   "outputs": [
    {
     "name": "stdout",
     "output_type": "stream",
     "text": [
      "**************  Fold 0  ************** \n",
      "\n"
     ]
    },
    {
     "name": "stderr",
     "output_type": "stream",
     "text": [
      "2022-08-25 09:55:00.452676: I tensorflow/compiler/mlir/mlir_graph_optimization_pass.cc:185] None of the MLIR Optimization Passes are enabled (registered 2)\n"
     ]
    },
    {
     "name": "stdout",
     "output_type": "stream",
     "text": [
      "\n",
      " MSE : 0.052672949551251166 \n",
      "\n",
      "Best Validation Loss: 0.1847\n",
      "Best Validation Accuracy: 0.9300\n",
      "\n",
      "\n",
      "**************  Fold 1  ************** \n",
      "\n",
      "\n",
      " MSE : 0.036934981494692855 \n",
      "\n",
      "Best Validation Loss: 0.1319\n",
      "Best Validation Accuracy: 0.9540\n",
      "\n",
      "\n",
      "**************  Fold 2  ************** \n",
      "\n",
      "\n",
      " MSE : 0.02690521835095001 \n",
      "\n",
      "Best Validation Loss: 0.1023\n",
      "Best Validation Accuracy: 0.9667\n",
      "\n",
      "\n",
      "**************  Fold 3  ************** \n",
      "\n",
      "\n",
      " MSE : 0.02694668321703188 \n",
      "\n",
      "Best Validation Loss: 0.1054\n",
      "Best Validation Accuracy: 0.9676\n",
      "\n",
      "\n",
      "**************  Fold 4  ************** \n",
      "\n",
      "\n",
      " MSE : 0.026276054050577723 \n",
      "\n",
      "Best Validation Loss: 0.0998\n",
      "Best Validation Accuracy: 0.9675\n",
      "\n",
      "\n"
     ]
    },
    {
     "data": {
      "image/png": "[encoded data removed]",
      "text/plain": [
       "<Figure size 432x288 with 1 Axes>"
      ]
     },
     "metadata": {
      "needs_background": "light"
     },
     "output_type": "display_data"
    },
    {
     "data": {
      "image/png": "[encoded data removed]",
      "text/plain": [
       "<Figure size 432x288 with 1 Axes>"
      ]
     },
     "metadata": {
      "needs_background": "light"
     },
     "output_type": "display_data"
    },
    {
     "data": {
      "image/png": "[encoded data removed]",
      "text/plain": [
       "<Figure size 432x288 with 1 Axes>"
      ]
     },
     "metadata": {
      "needs_background": "light"
     },
     "output_type": "display_data"
    },
    {
     "data": {
      "image/png": "[encoded data removed]",
      "text/plain": [
       "<Figure size 432x288 with 1 Axes>"
      ]
     },
     "metadata": {
      "needs_background": "light"
     },
     "output_type": "display_data"
    },
    {
     "data": {
      "image/png": "[encoded data removed]",
      "text/plain": [
       "<Figure size 432x288 with 1 Axes>"
      ]
     },
     "metadata": {
      "needs_background": "light"
     },
     "output_type": "display_data"
    },
    {
     "data": {
      "image/png": "[encoded data removed]",
      "text/plain": [
       "<Figure size 432x288 with 1 Axes>"
      ]
     },
     "metadata": {
      "needs_background": "light"
     },
     "output_type": "display_data"
    },
    {
     "data": {
      "image/png": "[encoded data removed]",
      "text/plain": [
       "<Figure size 432x288 with 1 Axes>"
      ]
     },
     "metadata": {
      "needs_background": "light"
     },
     "output_type": "display_data"
    },
    {
     "data": {
      "image/png": "[encoded data removed]",
      "text/plain": [
       "<Figure size 432x288 with 1 Axes>"
      ]
     },
     "metadata": {
      "needs_background": "light"
     },
     "output_type": "display_data"
    },
    {
     "data": {
      "image/png": "[encoded data removed]",
      "text/plain": [
       "<Figure size 432x288 with 1 Axes>"
      ]
     },
     "metadata": {
      "needs_background": "light"
     },
     "output_type": "display_data"
    },
    {
     "data": {
      "image/png": "[encoded data removed]",
      "text/plain": [
       "<Figure size 432x288 with 1 Axes>"
      ]
     },
     "metadata": {
      "needs_background": "light"
     },
     "output_type": "display_data"
    }
   ],
   "source": [
    "skf = StratifiedKFold(n_splits=5, random_state=123, shuffle=True)\n",
    "\n",
    "y_prediction = []\n",
    "scores = []\n",
    "\n",
    "for fold, (train_index, val_index) in enumerate(skf.split(train['text'], y)):\n",
    "    print('*'*14, f\" Fold {fold} \", '*'*14, '\\n')\n",
    "\n",
    "    # Splitting Data\n",
    "    X_train, X_valid = train['text'][train_index], train['text'][val_index]\n",
    "    y_train, y_valid = y[train_index], y[val_index]\n",
    "\n",
    "    # Encode Data\n",
    "    X_train = bert_encode(X_train.astype(str), tokenizer)\n",
    "    X_valid = bert_encode(X_valid.astype(str), tokenizer)\n",
    "\n",
    "    y_train = y_train.values\n",
    "    y_valid = y_valid.values\n",
    "\n",
    "    # Define train & valid dataset\n",
    "    train_dataset = (\n",
    "        tf.data.Dataset\n",
    "        .from_tensor_slices((X_train, y_train))\n",
    "        .repeat()\n",
    "        .shuffle(2048)\n",
    "        .batch(BATCH_SIZE)\n",
    "        .prefetch(AUTO)\n",
    "    )\n",
    "\n",
    "    valid_dataset = (\n",
    "        tf.data.Dataset\n",
    "        .from_tensor_slices((X_valid, y_valid))\n",
    "        .batch(BATCH_SIZE)\n",
    "        .cache()\n",
    "        .prefetch(AUTO)\n",
    "    )\n",
    "    \n",
    "    # Define Model\n",
    "    model = build_model(transformer_layer, max_len=MAX_LEN)\n",
    "\n",
    "    # Training\n",
    "    history = model.fit(\n",
    "        train_dataset,\n",
    "        validation_data=valid_dataset,\n",
    "        steps_per_epoch=320,\n",
    "        #batch_size=512,\n",
    "        epochs=7,\n",
    "        callbacks=[early_stopping, reduce_lr],\n",
    "        verbose=0\n",
    "    )\n",
    "    \n",
    "    # Save Model Weights\n",
    "    model.save_weights(f\"sst_keras_model_fold{fold}.h5\")\n",
    "    \n",
    "    # Make X_val prediction\n",
    "    y_pred = model.predict(X_valid)\n",
    "    \n",
    "    # Evaluate Model\n",
    "    mse = mean_squared_error(y_valid, y_pred)\n",
    "    scores.append(mse)\n",
    "    print(\"\\n MSE :\", mse, '\\n')\n",
    "    \n",
    "    # Test prediction\n",
    "    y_prediction.append(model.predict(test_text, verbose=0) )\n",
    "    plot_curve(history)\n",
    "        \n",
    "    print(\"\\n\")\n",
    "\n",
    "    # Free the memory\n",
    "    del X_train, X_valid, y_train, y_valid, train_dataset, valid_dataset, history, y_pred, mse\n",
    "    gc.collect()"
   ]
  },
  {
   "cell_type": "code",
   "execution_count": 19,
   "id": "e49b7760",
   "metadata": {
    "execution": {
     "iopub.execute_input": "2022-08-25T12:56:46.308968Z",
     "iopub.status.busy": "2022-08-25T12:56:46.308361Z",
     "iopub.status.idle": "2022-08-25T12:56:46.314168Z",
     "shell.execute_reply": "2022-08-25T12:56:46.313223Z"
    },
    "papermill": {
     "duration": 0.020306,
     "end_time": "2022-08-25T12:56:46.316227",
     "exception": false,
     "start_time": "2022-08-25T12:56:46.295921",
     "status": "completed"
    },
    "tags": []
   },
   "outputs": [
    {
     "name": "stdout",
     "output_type": "stream",
     "text": [
      "Mean Squared Error :  0.03394717733290073\n"
     ]
    }
   ],
   "source": [
    "print(\"Mean Squared Error : \", np.array(scores).mean(axis=0) )"
   ]
  },
  {
   "cell_type": "code",
   "execution_count": 20,
   "id": "183ed1c8",
   "metadata": {
    "execution": {
     "iopub.execute_input": "2022-08-25T12:56:46.340973Z",
     "iopub.status.busy": "2022-08-25T12:56:46.340164Z",
     "iopub.status.idle": "2022-08-25T12:56:46.347588Z",
     "shell.execute_reply": "2022-08-25T12:56:46.346490Z"
    },
    "papermill": {
     "duration": 0.022057,
     "end_time": "2022-08-25T12:56:46.349955",
     "exception": false,
     "start_time": "2022-08-25T12:56:46.327898",
     "status": "completed"
    },
    "tags": []
   },
   "outputs": [
    {
     "data": {
      "text/plain": [
       "(872, 872)"
      ]
     },
     "execution_count": 20,
     "metadata": {},
     "output_type": "execute_result"
    }
   ],
   "source": [
    "preds = np.array(y_prediction).mean(axis=0)\n",
    "len(preds), test.shape[0]"
   ]
  },
  {
   "cell_type": "markdown",
   "id": "e2fc8e6b",
   "metadata": {
    "papermill": {
     "duration": 0.011116,
     "end_time": "2022-08-25T12:56:46.373275",
     "exception": false,
     "start_time": "2022-08-25T12:56:46.362159",
     "status": "completed"
    },
    "tags": []
   },
   "source": [
    "# Submission"
   ]
  },
  {
   "cell_type": "code",
   "execution_count": 21,
   "id": "3f89ec43",
   "metadata": {
    "execution": {
     "iopub.execute_input": "2022-08-25T12:56:46.397591Z",
     "iopub.status.busy": "2022-08-25T12:56:46.396730Z",
     "iopub.status.idle": "2022-08-25T12:56:46.438133Z",
     "shell.execute_reply": "2022-08-25T12:56:46.437158Z"
    },
    "papermill": {
     "duration": 0.056184,
     "end_time": "2022-08-25T12:56:46.440538",
     "exception": false,
     "start_time": "2022-08-25T12:56:46.384354",
     "status": "completed"
    },
    "tags": []
   },
   "outputs": [
    {
     "data": {
      "text/html": [
       "<div>\n",
       "<style scoped>\n",
       "    .dataframe tbody tr th:only-of-type {\n",
       "        vertical-align: middle;\n",
       "    }\n",
       "\n",
       "    .dataframe tbody tr th {\n",
       "        vertical-align: top;\n",
       "    }\n",
       "\n",
       "    .dataframe thead th {\n",
       "        text-align: right;\n",
       "    }\n",
       "</style>\n",
       "<table border=\"1\" class=\"dataframe\">\n",
       "  <thead>\n",
       "    <tr style=\"text-align: right;\">\n",
       "      <th></th>\n",
       "      <th>count</th>\n",
       "      <th>mean</th>\n",
       "      <th>std</th>\n",
       "      <th>min</th>\n",
       "      <th>25%</th>\n",
       "      <th>50%</th>\n",
       "      <th>75%</th>\n",
       "      <th>max</th>\n",
       "    </tr>\n",
       "  </thead>\n",
       "  <tbody>\n",
       "    <tr>\n",
       "      <th>id</th>\n",
       "      <td>872.0</td>\n",
       "      <td>435.500000</td>\n",
       "      <td>251.869014</td>\n",
       "      <td>0.000000</td>\n",
       "      <td>217.750000</td>\n",
       "      <td>435.500000</td>\n",
       "      <td>653.250000</td>\n",
       "      <td>871.000000</td>\n",
       "    </tr>\n",
       "    <tr>\n",
       "      <th>target</th>\n",
       "      <td>872.0</td>\n",
       "      <td>0.545481</td>\n",
       "      <td>0.448896</td>\n",
       "      <td>0.000934</td>\n",
       "      <td>0.029499</td>\n",
       "      <td>0.707057</td>\n",
       "      <td>0.998064</td>\n",
       "      <td>0.999915</td>\n",
       "    </tr>\n",
       "  </tbody>\n",
       "</table>\n",
       "</div>"
      ],
      "text/plain": [
       "        count        mean         std       min         25%         50%  \\\n",
       "id      872.0  435.500000  251.869014  0.000000  217.750000  435.500000   \n",
       "target  872.0    0.545481    0.448896  0.000934    0.029499    0.707057   \n",
       "\n",
       "               75%         max  \n",
       "id      653.250000  871.000000  \n",
       "target    0.998064    0.999915  "
      ]
     },
     "execution_count": 21,
     "metadata": {},
     "output_type": "execute_result"
    }
   ],
   "source": [
    "sub = pd.read_csv('../input/stanford-sentiment-treebank/sample_submission.csv')\n",
    "sub['target'] = preds\n",
    "\n",
    "sub.to_csv(\"submission.csv\", index=False)\n",
    "sub.describe().T"
   ]
  },
  {
   "cell_type": "code",
   "execution_count": 22,
   "id": "38c7866e",
   "metadata": {
    "execution": {
     "iopub.execute_input": "2022-08-25T12:56:46.465995Z",
     "iopub.status.busy": "2022-08-25T12:56:46.465022Z",
     "iopub.status.idle": "2022-08-25T12:56:46.477363Z",
     "shell.execute_reply": "2022-08-25T12:56:46.476421Z"
    },
    "papermill": {
     "duration": 0.027353,
     "end_time": "2022-08-25T12:56:46.479801",
     "exception": false,
     "start_time": "2022-08-25T12:56:46.452448",
     "status": "completed"
    },
    "tags": []
   },
   "outputs": [
    {
     "data": {
      "text/html": [
       "<div>\n",
       "<style scoped>\n",
       "    .dataframe tbody tr th:only-of-type {\n",
       "        vertical-align: middle;\n",
       "    }\n",
       "\n",
       "    .dataframe tbody tr th {\n",
       "        vertical-align: top;\n",
       "    }\n",
       "\n",
       "    .dataframe thead th {\n",
       "        text-align: right;\n",
       "    }\n",
       "</style>\n",
       "<table border=\"1\" class=\"dataframe\">\n",
       "  <thead>\n",
       "    <tr style=\"text-align: right;\">\n",
       "      <th></th>\n",
       "      <th>id</th>\n",
       "      <th>target</th>\n",
       "    </tr>\n",
       "  </thead>\n",
       "  <tbody>\n",
       "    <tr>\n",
       "      <th>0</th>\n",
       "      <td>787</td>\n",
       "      <td>0.091189</td>\n",
       "    </tr>\n",
       "    <tr>\n",
       "      <th>1</th>\n",
       "      <td>458</td>\n",
       "      <td>0.996254</td>\n",
       "    </tr>\n",
       "    <tr>\n",
       "      <th>2</th>\n",
       "      <td>423</td>\n",
       "      <td>0.133016</td>\n",
       "    </tr>\n",
       "    <tr>\n",
       "      <th>3</th>\n",
       "      <td>466</td>\n",
       "      <td>0.972613</td>\n",
       "    </tr>\n",
       "    <tr>\n",
       "      <th>4</th>\n",
       "      <td>545</td>\n",
       "      <td>0.030424</td>\n",
       "    </tr>\n",
       "    <tr>\n",
       "      <th>...</th>\n",
       "      <td>...</td>\n",
       "      <td>...</td>\n",
       "    </tr>\n",
       "    <tr>\n",
       "      <th>867</th>\n",
       "      <td>546</td>\n",
       "      <td>0.203024</td>\n",
       "    </tr>\n",
       "    <tr>\n",
       "      <th>868</th>\n",
       "      <td>574</td>\n",
       "      <td>0.012985</td>\n",
       "    </tr>\n",
       "    <tr>\n",
       "      <th>869</th>\n",
       "      <td>443</td>\n",
       "      <td>0.999697</td>\n",
       "    </tr>\n",
       "    <tr>\n",
       "      <th>870</th>\n",
       "      <td>6</td>\n",
       "      <td>0.010844</td>\n",
       "    </tr>\n",
       "    <tr>\n",
       "      <th>871</th>\n",
       "      <td>867</td>\n",
       "      <td>0.946780</td>\n",
       "    </tr>\n",
       "  </tbody>\n",
       "</table>\n",
       "<p>872 rows × 2 columns</p>\n",
       "</div>"
      ],
      "text/plain": [
       "      id    target\n",
       "0    787  0.091189\n",
       "1    458  0.996254\n",
       "2    423  0.133016\n",
       "3    466  0.972613\n",
       "4    545  0.030424\n",
       "..   ...       ...\n",
       "867  546  0.203024\n",
       "868  574  0.012985\n",
       "869  443  0.999697\n",
       "870    6  0.010844\n",
       "871  867  0.946780\n",
       "\n",
       "[872 rows x 2 columns]"
      ]
     },
     "execution_count": 22,
     "metadata": {},
     "output_type": "execute_result"
    }
   ],
   "source": [
    "sub"
   ]
  }
 ],
 "metadata": {
  "kernelspec": {
   "display_name": "Python 3",
   "language": "python",
   "name": "python3"
  },
  "language_info": {
   "codemirror_mode": {
    "name": "ipython",
    "version": 3
   },
   "file_extension": ".py",
   "mimetype": "text/x-python",
   "name": "python",
   "nbconvert_exporter": "python",
   "pygments_lexer": "ipython3",
   "version": "3.7.12"
  },
  "papermill": {
   "default_parameters": {},
   "duration": 10987.994248,
   "end_time": "2022-08-25T12:56:49.884805",
   "environment_variables": {},
   "exception": null,
   "input_path": "__notebook__.ipynb",
   "output_path": "__notebook__.ipynb",
   "parameters": {},
   "start_time": "2022-08-25T09:53:41.890557",
   "version": "2.3.4"
  }
 },
 "nbformat": 4,
 "nbformat_minor": 5
}
