{
 "cells": [
  {
   "cell_type": "markdown",
   "id": "1b20642e",
   "metadata": {
    "papermill": {
     "duration": 0.00367,
     "end_time": "2022-08-28T09:15:45.276989",
     "exception": false,
     "start_time": "2022-08-28T09:15:45.273319",
     "status": "completed"
    },
    "tags": []
   },
   "source": [
    "# Ensemble Solutions :\n",
    "\n",
    "\n",
    "- Boosting : https://github.com/bchryzal/Stanford-Sentiment-Treebank/blob/main/stanford-sentiment-treebank-boosting.ipynb\n",
    "\n",
    "- Bert with Keras : https://github.com/bchryzal/Stanford-Sentiment-Treebank/blob/main/stanford-sentiment-treebank-baseline-bert.ipynb"
   ]
  },
  {
   "cell_type": "code",
   "execution_count": 1,
   "id": "6325daee",
   "metadata": {
    "_cell_guid": "b1076dfc-b9ad-4769-8c92-a6c4dae69d19",
    "_uuid": "8f2839f25d086af736a60e9eeb907d3b93b6e0e5",
    "execution": {
     "iopub.execute_input": "2022-08-28T09:15:45.284344Z",
     "iopub.status.busy": "2022-08-28T09:15:45.283823Z",
     "iopub.status.idle": "2022-08-28T09:15:45.296494Z",
     "shell.execute_reply": "2022-08-28T09:15:45.295148Z"
    },
    "papermill": {
     "duration": 0.019145,
     "end_time": "2022-08-28T09:15:45.298973",
     "exception": false,
     "start_time": "2022-08-28T09:15:45.279828",
     "status": "completed"
    },
    "tags": []
   },
   "outputs": [],
   "source": [
    "import numpy as np # linear algebra\n",
    "import pandas as pd # data processing, CSV file I/O (e.g. pd.read_csv)"
   ]
  },
  {
   "cell_type": "markdown",
   "id": "283d3616",
   "metadata": {
    "papermill": {
     "duration": 0.0023,
     "end_time": "2022-08-28T09:15:45.303989",
     "exception": false,
     "start_time": "2022-08-28T09:15:45.301689",
     "status": "completed"
    },
    "tags": []
   },
   "source": [
    "- Public L : 0.97204"
   ]
  },
  {
   "cell_type": "code",
   "execution_count": 2,
   "id": "b13ef516",
   "metadata": {
    "execution": {
     "iopub.execute_input": "2022-08-28T09:15:45.310536Z",
     "iopub.status.busy": "2022-08-28T09:15:45.310172Z",
     "iopub.status.idle": "2022-08-28T09:15:45.364280Z",
     "shell.execute_reply": "2022-08-28T09:15:45.363164Z"
    },
    "papermill": {
     "duration": 0.061053,
     "end_time": "2022-08-28T09:15:45.367526",
     "exception": false,
     "start_time": "2022-08-28T09:15:45.306473",
     "status": "completed"
    },
    "tags": []
   },
   "outputs": [
    {
     "data": {
      "text/html": [
       "<div>\n",
       "<style scoped>\n",
       "    .dataframe tbody tr th:only-of-type {\n",
       "        vertical-align: middle;\n",
       "    }\n",
       "\n",
       "    .dataframe tbody tr th {\n",
       "        vertical-align: top;\n",
       "    }\n",
       "\n",
       "    .dataframe thead th {\n",
       "        text-align: right;\n",
       "    }\n",
       "</style>\n",
       "<table border=\"1\" class=\"dataframe\">\n",
       "  <thead>\n",
       "    <tr style=\"text-align: right;\">\n",
       "      <th></th>\n",
       "      <th>count</th>\n",
       "      <th>mean</th>\n",
       "      <th>std</th>\n",
       "      <th>min</th>\n",
       "      <th>25%</th>\n",
       "      <th>50%</th>\n",
       "      <th>75%</th>\n",
       "      <th>max</th>\n",
       "    </tr>\n",
       "  </thead>\n",
       "  <tbody>\n",
       "    <tr>\n",
       "      <th>id</th>\n",
       "      <td>872.0</td>\n",
       "      <td>435.500000</td>\n",
       "      <td>251.869014</td>\n",
       "      <td>0.000000</td>\n",
       "      <td>217.750000</td>\n",
       "      <td>435.500000</td>\n",
       "      <td>653.250000</td>\n",
       "      <td>871.000000</td>\n",
       "    </tr>\n",
       "    <tr>\n",
       "      <th>target</th>\n",
       "      <td>872.0</td>\n",
       "      <td>0.545481</td>\n",
       "      <td>0.448896</td>\n",
       "      <td>0.000934</td>\n",
       "      <td>0.029499</td>\n",
       "      <td>0.707057</td>\n",
       "      <td>0.998064</td>\n",
       "      <td>0.999915</td>\n",
       "    </tr>\n",
       "  </tbody>\n",
       "</table>\n",
       "</div>"
      ],
      "text/plain": [
       "        count        mean         std       min         25%         50%  \\\n",
       "id      872.0  435.500000  251.869014  0.000000  217.750000  435.500000   \n",
       "target  872.0    0.545481    0.448896  0.000934    0.029499    0.707057   \n",
       "\n",
       "               75%         max  \n",
       "id      653.250000  871.000000  \n",
       "target    0.998064    0.999915  "
      ]
     },
     "execution_count": 2,
     "metadata": {},
     "output_type": "execute_result"
    }
   ],
   "source": [
    "data = pd.read_csv('../input/stanford-sentiment-treebank-baseline-bert/submission.csv')\n",
    "data.describe().T"
   ]
  },
  {
   "cell_type": "markdown",
   "id": "37d5c71b",
   "metadata": {
    "papermill": {
     "duration": 0.002771,
     "end_time": "2022-08-28T09:15:45.373334",
     "exception": false,
     "start_time": "2022-08-28T09:15:45.370563",
     "status": "completed"
    },
    "tags": []
   },
   "source": [
    "- Public L : 0.85415"
   ]
  },
  {
   "cell_type": "code",
   "execution_count": 3,
   "id": "6327d64b",
   "metadata": {
    "execution": {
     "iopub.execute_input": "2022-08-28T09:15:45.380514Z",
     "iopub.status.busy": "2022-08-28T09:15:45.380125Z",
     "iopub.status.idle": "2022-08-28T09:15:45.409488Z",
     "shell.execute_reply": "2022-08-28T09:15:45.408222Z"
    },
    "papermill": {
     "duration": 0.035956,
     "end_time": "2022-08-28T09:15:45.412109",
     "exception": false,
     "start_time": "2022-08-28T09:15:45.376153",
     "status": "completed"
    },
    "tags": []
   },
   "outputs": [
    {
     "data": {
      "text/html": [
       "<div>\n",
       "<style scoped>\n",
       "    .dataframe tbody tr th:only-of-type {\n",
       "        vertical-align: middle;\n",
       "    }\n",
       "\n",
       "    .dataframe tbody tr th {\n",
       "        vertical-align: top;\n",
       "    }\n",
       "\n",
       "    .dataframe thead th {\n",
       "        text-align: right;\n",
       "    }\n",
       "</style>\n",
       "<table border=\"1\" class=\"dataframe\">\n",
       "  <thead>\n",
       "    <tr style=\"text-align: right;\">\n",
       "      <th></th>\n",
       "      <th>count</th>\n",
       "      <th>mean</th>\n",
       "      <th>std</th>\n",
       "      <th>min</th>\n",
       "      <th>25%</th>\n",
       "      <th>50%</th>\n",
       "      <th>75%</th>\n",
       "      <th>max</th>\n",
       "    </tr>\n",
       "  </thead>\n",
       "  <tbody>\n",
       "    <tr>\n",
       "      <th>id</th>\n",
       "      <td>872.0</td>\n",
       "      <td>435.500000</td>\n",
       "      <td>251.869014</td>\n",
       "      <td>0.000000</td>\n",
       "      <td>217.75000</td>\n",
       "      <td>435.500000</td>\n",
       "      <td>653.250000</td>\n",
       "      <td>871.00000</td>\n",
       "    </tr>\n",
       "    <tr>\n",
       "      <th>target</th>\n",
       "      <td>872.0</td>\n",
       "      <td>0.543928</td>\n",
       "      <td>0.246219</td>\n",
       "      <td>0.005755</td>\n",
       "      <td>0.35288</td>\n",
       "      <td>0.568775</td>\n",
       "      <td>0.751461</td>\n",
       "      <td>0.98415</td>\n",
       "    </tr>\n",
       "  </tbody>\n",
       "</table>\n",
       "</div>"
      ],
      "text/plain": [
       "        count        mean         std       min        25%         50%  \\\n",
       "id      872.0  435.500000  251.869014  0.000000  217.75000  435.500000   \n",
       "target  872.0    0.543928    0.246219  0.005755    0.35288    0.568775   \n",
       "\n",
       "               75%        max  \n",
       "id      653.250000  871.00000  \n",
       "target    0.751461    0.98415  "
      ]
     },
     "execution_count": 3,
     "metadata": {},
     "output_type": "execute_result"
    }
   ],
   "source": [
    "data1 = pd.read_csv('../input/stanford-sentiment-treebank-boosting/submission_proba.csv')\n",
    "data1.describe().T"
   ]
  },
  {
   "cell_type": "code",
   "execution_count": 4,
   "id": "8106fd45",
   "metadata": {
    "execution": {
     "iopub.execute_input": "2022-08-28T09:15:45.420077Z",
     "iopub.status.busy": "2022-08-28T09:15:45.419663Z",
     "iopub.status.idle": "2022-08-28T09:15:45.448039Z",
     "shell.execute_reply": "2022-08-28T09:15:45.446585Z"
    },
    "papermill": {
     "duration": 0.035315,
     "end_time": "2022-08-28T09:15:45.450675",
     "exception": false,
     "start_time": "2022-08-28T09:15:45.415360",
     "status": "completed"
    },
    "tags": []
   },
   "outputs": [
    {
     "data": {
      "text/html": [
       "<div>\n",
       "<style scoped>\n",
       "    .dataframe tbody tr th:only-of-type {\n",
       "        vertical-align: middle;\n",
       "    }\n",
       "\n",
       "    .dataframe tbody tr th {\n",
       "        vertical-align: top;\n",
       "    }\n",
       "\n",
       "    .dataframe thead th {\n",
       "        text-align: right;\n",
       "    }\n",
       "</style>\n",
       "<table border=\"1\" class=\"dataframe\">\n",
       "  <thead>\n",
       "    <tr style=\"text-align: right;\">\n",
       "      <th></th>\n",
       "      <th>count</th>\n",
       "      <th>mean</th>\n",
       "      <th>std</th>\n",
       "      <th>min</th>\n",
       "      <th>25%</th>\n",
       "      <th>50%</th>\n",
       "      <th>75%</th>\n",
       "      <th>max</th>\n",
       "    </tr>\n",
       "  </thead>\n",
       "  <tbody>\n",
       "    <tr>\n",
       "      <th>id</th>\n",
       "      <td>872.0</td>\n",
       "      <td>435.500000</td>\n",
       "      <td>251.869014</td>\n",
       "      <td>0.000000</td>\n",
       "      <td>217.750000</td>\n",
       "      <td>435.500000</td>\n",
       "      <td>653.250000</td>\n",
       "      <td>871.000000</td>\n",
       "    </tr>\n",
       "    <tr>\n",
       "      <th>target</th>\n",
       "      <td>872.0</td>\n",
       "      <td>0.545372</td>\n",
       "      <td>0.428445</td>\n",
       "      <td>0.001531</td>\n",
       "      <td>0.062655</td>\n",
       "      <td>0.689273</td>\n",
       "      <td>0.974586</td>\n",
       "      <td>0.998787</td>\n",
       "    </tr>\n",
       "  </tbody>\n",
       "</table>\n",
       "</div>"
      ],
      "text/plain": [
       "        count        mean         std       min         25%         50%  \\\n",
       "id      872.0  435.500000  251.869014  0.000000  217.750000  435.500000   \n",
       "target  872.0    0.545372    0.428445  0.001531    0.062655    0.689273   \n",
       "\n",
       "               75%         max  \n",
       "id      653.250000  871.000000  \n",
       "target    0.974586    0.998787  "
      ]
     },
     "execution_count": 4,
     "metadata": {},
     "output_type": "execute_result"
    }
   ],
   "source": [
    "sub = pd.read_csv('../input/stanford-sentiment-treebank/sample_submission.csv')\n",
    "sub['target'] = data['target']*.93 + data1['target']*.07\n",
    "\n",
    "sub.describe().T"
   ]
  },
  {
   "cell_type": "code",
   "execution_count": 5,
   "id": "097b6c9c",
   "metadata": {
    "execution": {
     "iopub.execute_input": "2022-08-28T09:15:45.459858Z",
     "iopub.status.busy": "2022-08-28T09:15:45.459451Z",
     "iopub.status.idle": "2022-08-28T09:15:45.468977Z",
     "shell.execute_reply": "2022-08-28T09:15:45.468167Z"
    },
    "papermill": {
     "duration": 0.01696,
     "end_time": "2022-08-28T09:15:45.471322",
     "exception": false,
     "start_time": "2022-08-28T09:15:45.454362",
     "status": "completed"
    },
    "tags": []
   },
   "outputs": [],
   "source": [
    "sub.to_csv('submission.csv', index=False)"
   ]
  }
 ],
 "metadata": {
  "kernelspec": {
   "display_name": "Python 3",
   "language": "python",
   "name": "python3"
  },
  "language_info": {
   "codemirror_mode": {
    "name": "ipython",
    "version": 3
   },
   "file_extension": ".py",
   "mimetype": "text/x-python",
   "name": "python",
   "nbconvert_exporter": "python",
   "pygments_lexer": "ipython3",
   "version": "3.7.12"
  },
  "papermill": {
   "default_parameters": {},
   "duration": 10.346804,
   "end_time": "2022-08-28T09:15:46.196262",
   "environment_variables": {},
   "exception": null,
   "input_path": "__notebook__.ipynb",
   "output_path": "__notebook__.ipynb",
   "parameters": {},
   "start_time": "2022-08-28T09:15:35.849458",
   "version": "2.3.4"
  }
 },
 "nbformat": 4,
 "nbformat_minor": 5
}
